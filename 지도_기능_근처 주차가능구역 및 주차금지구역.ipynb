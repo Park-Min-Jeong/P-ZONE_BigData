{
 "cells": [
  {
   "cell_type": "code",
   "execution_count": 30,
   "id": "18a235d6",
   "metadata": {
    "ExecuteTime": {
     "end_time": "2023-01-31T04:21:35.650259Z",
     "start_time": "2023-01-31T04:21:35.639251Z"
    }
   },
   "outputs": [],
   "source": [
    "import pandas as pd\n",
    "from haversine import haversine\n",
    "import requests"
   ]
  },
  {
   "cell_type": "code",
   "execution_count": 31,
   "id": "9789811e",
   "metadata": {
    "ExecuteTime": {
     "end_time": "2023-01-31T04:21:35.965385Z",
     "start_time": "2023-01-31T04:21:35.955412Z"
    }
   },
   "outputs": [],
   "source": [
    "data_path = \"./data/\""
   ]
  },
  {
   "cell_type": "code",
   "execution_count": 34,
   "id": "e73cf303",
   "metadata": {
    "ExecuteTime": {
     "end_time": "2023-01-31T04:22:51.941246Z",
     "start_time": "2023-01-31T04:22:51.926288Z"
    }
   },
   "outputs": [],
   "source": [
    "def get_dong(latitude, longitude):\n",
    "    dong = pd.read_csv(data_path + \"dong.csv\")\n",
    "    \n",
    "    url = \"https://apis.openapi.sk.com/tmap/geo/reversegeocoding?version=1\"\n",
    "\n",
    "    payload = {\n",
    "        \"appKey\": \"l7xx0ffb87c22bdb45ae8facaeeb7958ad36\",\n",
    "        \"lon\": longitude,\n",
    "        \"lat\": latitude,\n",
    "    }\n",
    "\n",
    "    res = requests.get(url, params=payload)\n",
    "\n",
    "    try:\n",
    "        dongCode = int(json.loads(res.text)[\"addressInfo\"][\"legalDongCode\"][5:8])\n",
    "    except:\n",
    "        return \"ERROR\"\n",
    "\n",
    "    if dongCode in dong[\"dongCode\"].unique():\n",
    "        return dongCode\n",
    "    else:\n",
    "        return \"Invalid Code\""
   ]
  },
  {
   "cell_type": "code",
   "execution_count": 35,
   "id": "24bf30e4",
   "metadata": {
    "ExecuteTime": {
     "end_time": "2023-01-31T04:22:52.875618Z",
     "start_time": "2023-01-31T04:22:52.855674Z"
    }
   },
   "outputs": [],
   "source": [
    "# mariaDB 쿼리로 처리할 부분\n",
    "# dongCode가 같은 것만 불러오기\n",
    "def return_df_dongCode(dongCode):\n",
    "    cautionzone = pd.read_csv(data_path + \"cautionzone.csv\")\n",
    "    parkingzone = pd.read_csv(data_path + \"parkingzone.csv\")\n",
    "    \n",
    "    cautionzone = cautionzone[cautionzone[\"dongCode\"]==dongCode].reset_index(drop=True)\n",
    "    parkingzone = parkingzone[parkingzone[\"dongCode\"]==dongCode].reset_index(drop=True)\n",
    "    \n",
    "    return cautionzone, parkingzone"
   ]
  },
  {
   "cell_type": "code",
   "execution_count": 38,
   "id": "314c2503",
   "metadata": {
    "ExecuteTime": {
     "end_time": "2023-01-31T04:23:46.444115Z",
     "start_time": "2023-01-31T04:23:46.180235Z"
    }
   },
   "outputs": [
    {
     "name": "stdout",
     "output_type": "stream",
     "text": [
      "bus 한별구립어린이집\n",
      "fire 휴비스 사옥\n",
      "fire nan\n"
     ]
    }
   ],
   "source": [
    "# 기준 거리\n",
    "criteria = 100\n",
    "\n",
    "# 현 위치\n",
    "latitude = 37.50967163551159\n",
    "longitude = 127.05554547579632\n",
    "here = (latitude, longitude)\n",
    "\n",
    "# 해당 구역 저장\n",
    "place_list = []\n",
    "\n",
    "\n",
    "dongCode = str(get_dong(latitude, longitude))\n",
    "cautionzone, parkingzone = return_df_dongCode(dongCode) ###\n",
    "\n",
    "### 데이터프레임 --> DB로 변경 필요\n",
    "for i in range(len(cautionzone)):\n",
    "    zone = cautionzone.loc[i, :]\n",
    "    distance = haversine(here, (zone[\"latitude\"], zone[\"longitude\"]), unit=\"m\")\n",
    "    if distance < criteria:\n",
    "        print(zone[\"type\"], zone[\"name\"])\n",
    "        place_list.append({\"type\": zone[\"type\"], \"latitude\": zone[\"latitude\"], \"longitude\": zone[\"longitude\"]})\n",
    "\n",
    "for i in range(len(parkingzone)):\n",
    "    zone = cautionzone.loc[i, :]\n",
    "    distance = haversine(here, (zone[\"latitude\"], zone[\"longitude\"]), unit=\"m\")\n",
    "    if distance < criteria:\n",
    "        print(zone[\"type\"], zone[\"name\"])\n",
    "        place_list.append({\"type\": zone[\"type\"], \"latitude\": zone[\"latitude\"], \"longitude\": zone[\"longitude\"]})        "
   ]
  }
 ],
 "metadata": {
  "kernelspec": {
   "display_name": "Python 3 (ipykernel)",
   "language": "python",
   "name": "python3"
  },
  "language_info": {
   "codemirror_mode": {
    "name": "ipython",
    "version": 3
   },
   "file_extension": ".py",
   "mimetype": "text/x-python",
   "name": "python",
   "nbconvert_exporter": "python",
   "pygments_lexer": "ipython3",
   "version": "3.9.15"
  },
  "toc": {
   "base_numbering": 1,
   "nav_menu": {},
   "number_sections": true,
   "sideBar": true,
   "skip_h1_title": false,
   "title_cell": "Table of Contents",
   "title_sidebar": "Contents",
   "toc_cell": false,
   "toc_position": {},
   "toc_section_display": true,
   "toc_window_display": false
  },
  "varInspector": {
   "cols": {
    "lenName": 16,
    "lenType": 16,
    "lenVar": 40
   },
   "kernels_config": {
    "python": {
     "delete_cmd_postfix": "",
     "delete_cmd_prefix": "del ",
     "library": "var_list.py",
     "varRefreshCmd": "print(var_dic_list())"
    },
    "r": {
     "delete_cmd_postfix": ") ",
     "delete_cmd_prefix": "rm(",
     "library": "var_list.r",
     "varRefreshCmd": "cat(var_dic_list()) "
    }
   },
   "types_to_exclude": [
    "module",
    "function",
    "builtin_function_or_method",
    "instance",
    "_Feature"
   ],
   "window_display": false
  }
 },
 "nbformat": 4,
 "nbformat_minor": 5
}
