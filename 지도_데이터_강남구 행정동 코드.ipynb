{
 "cells": [
  {
   "cell_type": "code",
   "execution_count": 1,
   "id": "7769614d",
   "metadata": {
    "ExecuteTime": {
     "end_time": "2023-01-31T04:30:38.094470Z",
     "start_time": "2023-01-31T04:30:37.609428Z"
    }
   },
   "outputs": [],
   "source": [
    "import pandas as pd\n",
    "import requests\n",
    "import json\n",
    "\n",
    "data_path = \"./data/\""
   ]
  },
  {
   "cell_type": "code",
   "execution_count": 7,
   "id": "c0e7f839",
   "metadata": {
    "ExecuteTime": {
     "end_time": "2023-01-31T04:31:34.955377Z",
     "start_time": "2023-01-31T04:31:34.388910Z"
    }
   },
   "outputs": [
    {
     "name": "stdout",
     "output_type": "stream",
     "text": [
      "101 역삼동\n",
      "103 개포동\n",
      "104 청담동\n",
      "105 삼성동\n",
      "106 대치동\n",
      "107 신사동\n",
      "108 논현동\n",
      "110 압구정동\n",
      "111 세곡동\n",
      "112 자곡동\n",
      "113 율현동\n",
      "114 일원동\n",
      "115 수서동\n",
      "118 도곡동\n"
     ]
    }
   ],
   "source": [
    "url = \"https://apis.openapi.sk.com/tmap/poi/areascode?version=1\"\n",
    "\n",
    "payload = {\n",
    "    \"appKey\": json.load(open(\"./data/secrets.json\", \"r\"))[\"tmap\"][\"appkey\"],\n",
    "    \"areaTypCd\": \"02\",\n",
    "    \"count\": 8000,\n",
    "    \"page\": 1,\n",
    "    \"largeCdFlag\": \"Y\",\n",
    "    \"middleCdFlag\": \"Y\",\n",
    "    \"smallCdFlag\": \"Y\"\n",
    "}\n",
    "\n",
    "res = requests.get(url, params=payload)\n",
    "results = json.loads(res.text)[\"areaCodeInfo\"][\"poiAreaCodes\"]\n",
    "\n",
    "\n",
    "\n",
    "dongCode_list = []\n",
    "dong_list = []\n",
    "\n",
    "for item in results:\n",
    "    if item[\"areaDepth\"] == \"S\" and item[\"largeCd\"] == \"11\" and item[\"middleCd\"] == \"680\":\n",
    "        print(item[\"smallCd\"], item[\"districtName\"])\n",
    "        dongCode_list.append(int(item[\"smallCd\"]))\n",
    "        dong_list.append(item[\"districtName\"])"
   ]
  },
  {
   "cell_type": "code",
   "execution_count": 8,
   "id": "0061d97c",
   "metadata": {
    "ExecuteTime": {
     "end_time": "2023-01-31T04:31:36.565762Z",
     "start_time": "2023-01-31T04:31:36.539309Z"
    }
   },
   "outputs": [
    {
     "name": "stdout",
     "output_type": "stream",
     "text": [
      "<class 'pandas.core.frame.DataFrame'>\n",
      "RangeIndex: 14 entries, 0 to 13\n",
      "Data columns (total 2 columns):\n",
      " #   Column    Non-Null Count  Dtype \n",
      "---  ------    --------------  ----- \n",
      " 0   dongCode  14 non-null     int64 \n",
      " 1   dong      14 non-null     object\n",
      "dtypes: int64(1), object(1)\n",
      "memory usage: 352.0+ bytes\n"
     ]
    },
    {
     "data": {
      "text/html": [
       "<div>\n",
       "<style scoped>\n",
       "    .dataframe tbody tr th:only-of-type {\n",
       "        vertical-align: middle;\n",
       "    }\n",
       "\n",
       "    .dataframe tbody tr th {\n",
       "        vertical-align: top;\n",
       "    }\n",
       "\n",
       "    .dataframe thead th {\n",
       "        text-align: right;\n",
       "    }\n",
       "</style>\n",
       "<table border=\"1\" class=\"dataframe\">\n",
       "  <thead>\n",
       "    <tr style=\"text-align: right;\">\n",
       "      <th></th>\n",
       "      <th>dongCode</th>\n",
       "      <th>dong</th>\n",
       "    </tr>\n",
       "  </thead>\n",
       "  <tbody>\n",
       "    <tr>\n",
       "      <th>0</th>\n",
       "      <td>101</td>\n",
       "      <td>역삼동</td>\n",
       "    </tr>\n",
       "    <tr>\n",
       "      <th>1</th>\n",
       "      <td>103</td>\n",
       "      <td>개포동</td>\n",
       "    </tr>\n",
       "    <tr>\n",
       "      <th>2</th>\n",
       "      <td>104</td>\n",
       "      <td>청담동</td>\n",
       "    </tr>\n",
       "    <tr>\n",
       "      <th>3</th>\n",
       "      <td>105</td>\n",
       "      <td>삼성동</td>\n",
       "    </tr>\n",
       "    <tr>\n",
       "      <th>4</th>\n",
       "      <td>106</td>\n",
       "      <td>대치동</td>\n",
       "    </tr>\n",
       "    <tr>\n",
       "      <th>5</th>\n",
       "      <td>107</td>\n",
       "      <td>신사동</td>\n",
       "    </tr>\n",
       "    <tr>\n",
       "      <th>6</th>\n",
       "      <td>108</td>\n",
       "      <td>논현동</td>\n",
       "    </tr>\n",
       "    <tr>\n",
       "      <th>7</th>\n",
       "      <td>110</td>\n",
       "      <td>압구정동</td>\n",
       "    </tr>\n",
       "    <tr>\n",
       "      <th>8</th>\n",
       "      <td>111</td>\n",
       "      <td>세곡동</td>\n",
       "    </tr>\n",
       "    <tr>\n",
       "      <th>9</th>\n",
       "      <td>112</td>\n",
       "      <td>자곡동</td>\n",
       "    </tr>\n",
       "    <tr>\n",
       "      <th>10</th>\n",
       "      <td>113</td>\n",
       "      <td>율현동</td>\n",
       "    </tr>\n",
       "    <tr>\n",
       "      <th>11</th>\n",
       "      <td>114</td>\n",
       "      <td>일원동</td>\n",
       "    </tr>\n",
       "    <tr>\n",
       "      <th>12</th>\n",
       "      <td>115</td>\n",
       "      <td>수서동</td>\n",
       "    </tr>\n",
       "    <tr>\n",
       "      <th>13</th>\n",
       "      <td>118</td>\n",
       "      <td>도곡동</td>\n",
       "    </tr>\n",
       "  </tbody>\n",
       "</table>\n",
       "</div>"
      ],
      "text/plain": [
       "    dongCode  dong\n",
       "0        101   역삼동\n",
       "1        103   개포동\n",
       "2        104   청담동\n",
       "3        105   삼성동\n",
       "4        106   대치동\n",
       "5        107   신사동\n",
       "6        108   논현동\n",
       "7        110  압구정동\n",
       "8        111   세곡동\n",
       "9        112   자곡동\n",
       "10       113   율현동\n",
       "11       114   일원동\n",
       "12       115   수서동\n",
       "13       118   도곡동"
      ]
     },
     "execution_count": 8,
     "metadata": {},
     "output_type": "execute_result"
    }
   ],
   "source": [
    "dong = pd.DataFrame({\"dongCode\": dongCode_list, \"dong\": dong_list})\n",
    "dong.info()\n",
    "dong"
   ]
  },
  {
   "cell_type": "code",
   "execution_count": 9,
   "id": "1a805d50",
   "metadata": {
    "ExecuteTime": {
     "end_time": "2023-01-31T04:31:40.898346Z",
     "start_time": "2023-01-31T04:31:40.879005Z"
    }
   },
   "outputs": [],
   "source": [
    "dong.to_csv(data_path + \"dong.csv\", index=False, encoding=\"utf-8\")"
   ]
  }
 ],
 "metadata": {
  "kernelspec": {
   "display_name": "Python 3 (ipykernel)",
   "language": "python",
   "name": "python3"
  },
  "language_info": {
   "codemirror_mode": {
    "name": "ipython",
    "version": 3
   },
   "file_extension": ".py",
   "mimetype": "text/x-python",
   "name": "python",
   "nbconvert_exporter": "python",
   "pygments_lexer": "ipython3",
   "version": "3.9.15"
  },
  "toc": {
   "base_numbering": 1,
   "nav_menu": {},
   "number_sections": true,
   "sideBar": true,
   "skip_h1_title": false,
   "title_cell": "Table of Contents",
   "title_sidebar": "Contents",
   "toc_cell": false,
   "toc_position": {},
   "toc_section_display": true,
   "toc_window_display": false
  },
  "varInspector": {
   "cols": {
    "lenName": 16,
    "lenType": 16,
    "lenVar": 40
   },
   "kernels_config": {
    "python": {
     "delete_cmd_postfix": "",
     "delete_cmd_prefix": "del ",
     "library": "var_list.py",
     "varRefreshCmd": "print(var_dic_list())"
    },
    "r": {
     "delete_cmd_postfix": ") ",
     "delete_cmd_prefix": "rm(",
     "library": "var_list.r",
     "varRefreshCmd": "cat(var_dic_list()) "
    }
   },
   "types_to_exclude": [
    "module",
    "function",
    "builtin_function_or_method",
    "instance",
    "_Feature"
   ],
   "window_display": false
  }
 },
 "nbformat": 4,
 "nbformat_minor": 5
}
