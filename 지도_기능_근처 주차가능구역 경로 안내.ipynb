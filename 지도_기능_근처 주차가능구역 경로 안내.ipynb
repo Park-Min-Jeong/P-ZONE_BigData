{
 "cells": [
  {
   "cell_type": "code",
   "execution_count": 8,
   "id": "bf0f72d2",
   "metadata": {
    "ExecuteTime": {
     "end_time": "2023-01-31T04:45:04.620112Z",
     "start_time": "2023-01-31T04:45:04.611183Z"
    }
   },
   "outputs": [],
   "source": [
    "import pandas as pd\n",
    "import requests\n",
    "import json\n",
    "import time\n",
    "\n",
    "data_path = \"./data/\""
   ]
  },
  {
   "cell_type": "code",
   "execution_count": 2,
   "id": "c46f9d19",
   "metadata": {
    "ExecuteTime": {
     "end_time": "2023-01-31T04:36:17.109429Z",
     "start_time": "2023-01-31T04:36:17.080888Z"
    }
   },
   "outputs": [
    {
     "name": "stdout",
     "output_type": "stream",
     "text": [
      "<class 'pandas.core.frame.DataFrame'>\n",
      "RangeIndex: 6 entries, 0 to 5\n",
      "Data columns (total 6 columns):\n",
      " #   Column     Non-Null Count  Dtype  \n",
      "---  ------     --------------  -----  \n",
      " 0   id         6 non-null      int64  \n",
      " 1   name       6 non-null      object \n",
      " 2   latitude   6 non-null      float64\n",
      " 3   longitude  6 non-null      float64\n",
      " 4   type       6 non-null      object \n",
      " 5   dongCode   6 non-null      int64  \n",
      "dtypes: float64(2), int64(2), object(2)\n",
      "memory usage: 416.0+ bytes\n"
     ]
    }
   ],
   "source": [
    "parkingzone = pd.read_csv(data_path + \"parkingzone.csv\")\n",
    "parkingzone.info()"
   ]
  },
  {
   "cell_type": "code",
   "execution_count": 9,
   "id": "b36ac905",
   "metadata": {
    "ExecuteTime": {
     "end_time": "2023-01-31T04:45:38.402082Z",
     "start_time": "2023-01-31T04:45:34.420629Z"
    }
   },
   "outputs": [
    {
     "name": "stdout",
     "output_type": "stream",
     "text": [
      "{'type': 'FeatureCollection', 'features': [{'type': 'Feature', 'geometry': {'type': 'Point', 'coordinates': [127.02102140621453, 37.51423096958477]}, 'properties': {'totalDistance': 386, 'totalTime': 368, 'index': 0, 'pointIndex': 0, 'name': '', 'description': '60m 이동', 'direction': '', 'nearPoiName': '', 'nearPoiX': '0.0', 'nearPoiY': '0.0', 'intersectionName': '', 'facilityType': '11', 'facilityName': '', 'turnType': 200, 'pointType': 'SP'}}, {'type': 'Feature', 'geometry': {'type': 'LineString', 'coordinates': [[127.02102140621453, 37.51423096958477], [127.02085751739446, 37.51475590564801]]}, 'properties': {'index': 1, 'lineIndex': 0, 'name': '', 'description': ', 60m', 'distance': 60, 'time': 46, 'roadType': 0, 'categoryRoadType': 0, 'facilityType': '11', 'facilityName': ''}}, {'type': 'Feature', 'geometry': {'type': 'Point', 'coordinates': [127.02085751739446, 37.51475590564801]}, 'properties': {'index': 2, 'pointIndex': 1, 'name': '하영전자', 'description': '하영전자 에서 좌회전 후 52m 이동 ', 'direction': '', 'nearPoiName': '하영전자', 'nearPoiX': '0.0', 'nearPoiY': '0.0', 'intersectionName': '', 'facilityType': '11', 'facilityName': '', 'turnType': 12, 'pointType': 'GP'}}, {'type': 'Feature', 'geometry': {'type': 'LineString', 'coordinates': [[127.02085751739446, 37.51475590564801], [127.02028812809073, 37.514639242314516]]}, 'properties': {'index': 3, 'lineIndex': 1, 'name': '', 'description': ', 52m', 'distance': 52, 'time': 40, 'roadType': 22, 'categoryRoadType': 0, 'facilityType': '11', 'facilityName': ''}}, {'type': 'Feature', 'geometry': {'type': 'Point', 'coordinates': [127.02028812809073, 37.514639242314516]}, 'properties': {'index': 4, 'pointIndex': 2, 'name': '대림빌딩', 'description': '대림빌딩 에서 우회전 후 강남대로 을 따라 151m 이동 ', 'direction': '', 'nearPoiName': '대림빌딩', 'nearPoiX': '0.0', 'nearPoiY': '0.0', 'intersectionName': '', 'facilityType': '11', 'facilityName': '', 'turnType': 13, 'pointType': 'GP'}}, {'type': 'Feature', 'geometry': {'type': 'LineString', 'coordinates': [[127.02028812809073, 37.514639242314516], [127.02000479430679, 37.51556690721547], [127.0199936831857, 37.51560301393165], [127.01998257230034, 37.51563078828269], [127.01996312758305, 37.51570300176491], [127.01997145913622, 37.515739108830104], [127.0199797905322, 37.51578077080539], [127.02000478660608, 37.515839097810115], [127.02002422794449, 37.515886314894935], [127.0200575562787, 37.51595575186942]]}, 'properties': {'index': 5, 'lineIndex': 2, 'name': '강남대로', 'description': '강남대로, 151m', 'distance': 151, 'time': 137, 'roadType': 22, 'categoryRoadType': 0, 'facilityType': '11', 'facilityName': ''}}, {'type': 'Feature', 'geometry': {'type': 'Point', 'coordinates': [127.0200575562787, 37.51595575186942]}, 'properties': {'index': 6, 'pointIndex': 3, 'name': '서울보증보험 신사동지점', 'description': '서울보증보험 신사동지점 에서 좌측 횡단보도 후 12m 이동 ', 'direction': '', 'nearPoiName': '서울보증보험 신사동지점', 'nearPoiX': '0.0', 'nearPoiY': '0.0', 'intersectionName': '', 'facilityType': '15', 'facilityName': '', 'turnType': 212, 'pointType': 'GP'}}, {'type': 'Feature', 'geometry': {'type': 'LineString', 'coordinates': [[127.0200575562787, 37.51595575186942], [127.0199408984259, 37.516019631241356]]}, 'properties': {'index': 7, 'lineIndex': 3, 'name': '', 'description': ', 12m', 'distance': 12, 'time': 9, 'roadType': 21, 'categoryRoadType': 0, 'facilityType': '15', 'facilityName': ''}}, {'type': 'Feature', 'geometry': {'type': 'Point', 'coordinates': [127.0199408984259, 37.516019631241356]}, 'properties': {'index': 8, 'pointIndex': 4, 'name': '', 'description': '직진 후 15m 이동 ', 'direction': '', 'nearPoiName': '', 'nearPoiX': '0.0', 'nearPoiY': '0.0', 'intersectionName': '', 'facilityType': '11', 'facilityName': '', 'turnType': 11, 'pointType': 'GP'}}, {'type': 'Feature', 'geometry': {'type': 'LineString', 'coordinates': [[127.0199408984259, 37.516019631241356], [127.01986868183576, 37.51605295940554], [127.01985756992887, 37.516116840672154]]}, 'properties': {'index': 9, 'lineIndex': 4, 'name': '', 'description': ', 15m', 'distance': 15, 'time': 40, 'roadType': 21, 'categoryRoadType': 0, 'facilityType': '11', 'facilityName': ''}}, {'type': 'Feature', 'geometry': {'type': 'Point', 'coordinates': [127.01985756992887, 37.516116840672154]}, 'properties': {'index': 10, 'pointIndex': 5, 'name': '', 'description': '횡단보도 후 38m 이동 ', 'direction': '', 'nearPoiName': '', 'nearPoiX': '0.0', 'nearPoiY': '0.0', 'intersectionName': '', 'facilityType': '15', 'facilityName': '', 'turnType': 211, 'pointType': 'GP'}}, {'type': 'Feature', 'geometry': {'type': 'LineString', 'coordinates': [[127.01985756992887, 37.516116840672154], [127.01979089966612, 37.516458466446046]]}, 'properties': {'index': 11, 'lineIndex': 5, 'name': '', 'description': ', 38m', 'distance': 38, 'time': 26, 'roadType': 21, 'categoryRoadType': 0, 'facilityType': '15', 'facilityName': ''}}, {'type': 'Feature', 'geometry': {'type': 'Point', 'coordinates': [127.01979089966612, 37.516458466446046]}, 'properties': {'index': 12, 'pointIndex': 6, 'name': '', 'description': '직진 후 11m 이동 ', 'direction': '', 'nearPoiName': '', 'nearPoiX': '0.0', 'nearPoiY': '0.0', 'intersectionName': '', 'facilityType': '11', 'facilityName': '', 'turnType': 11, 'pointType': 'GP'}}, {'type': 'Feature', 'geometry': {'type': 'LineString', 'coordinates': [[127.01979089966612, 37.516458466446046], [127.01977701062721, 37.51650846038754], [127.01979367451925, 37.51655289996741]]}, 'properties': {'index': 13, 'lineIndex': 6, 'name': '', 'description': ', 11m', 'distance': 11, 'time': 37, 'roadType': 21, 'categoryRoadType': 0, 'facilityType': '11', 'facilityName': ''}}, {'type': 'Feature', 'geometry': {'type': 'Point', 'coordinates': [127.01979367451925, 37.51655289996741]}, 'properties': {'index': 14, 'pointIndex': 7, 'name': '', 'description': '횡단보도 후 보행자도로 을 따라 12m 이동 ', 'direction': '', 'nearPoiName': '', 'nearPoiX': '0.0', 'nearPoiY': '0.0', 'intersectionName': '', 'facilityType': '15', 'facilityName': '', 'turnType': 211, 'pointType': 'GP'}}, {'type': 'Feature', 'geometry': {'type': 'LineString', 'coordinates': [[127.01979367451925, 37.51655289996741], [127.0198353344065, 37.516658444006985]]}, 'properties': {'index': 15, 'lineIndex': 7, 'name': '보행자도로', 'description': '보행자도로, 12m', 'distance': 12, 'time': 9, 'roadType': 21, 'categoryRoadType': 0, 'facilityType': '15', 'facilityName': ''}}, {'type': 'Feature', 'geometry': {'type': 'Point', 'coordinates': [127.0198353344065, 37.516658444006985]}, 'properties': {'index': 16, 'pointIndex': 8, 'name': '신사역  6번출구', 'description': '신사역  6번출구 에서 우회전 후 도산대로 을 따라 35m 이동 ', 'direction': '', 'nearPoiName': '신사역  6번출구', 'nearPoiX': '0.0', 'nearPoiY': '0.0', 'intersectionName': '신사역', 'facilityType': '11', 'facilityName': '', 'turnType': 13, 'pointType': 'GP'}}, {'type': 'Feature', 'geometry': {'type': 'LineString', 'coordinates': [[127.0198353344065, 37.516658444006985], [127.01995476931263, 37.51661122941525], [127.01996865701567, 37.51660845220951], [127.02006031549419, 37.51660289894483], [127.02009086811081, 37.516608454403396], [127.02015475102611, 37.516614010460295], [127.02020196839918, 37.51663345349325]]}, 'properties': {'index': 17, 'lineIndex': 8, 'name': '도산대로', 'description': '도산대로, 35m', 'distance': 35, 'time': 24, 'roadType': 21, 'categoryRoadType': 0, 'facilityType': '11', 'facilityName': ''}}, {'type': 'Feature', 'geometry': {'type': 'Point', 'coordinates': [127.02020196839918, 37.51663345349325]}, 'properties': {'index': 18, 'pointIndex': 9, 'name': '주차장', 'description': '도착', 'direction': '', 'nearPoiName': '주차장', 'nearPoiX': '0.0', 'nearPoiY': '0.0', 'intersectionName': '주차장', 'facilityType': '', 'facilityName': '', 'turnType': 201, 'pointType': 'EP'}}]}\n"
     ]
    }
   ],
   "source": [
    "min_time = 1000000000000\n",
    "\n",
    "url = \"https://apis.openapi.sk.com/tmap/routes/pedestrian?version=1\"\n",
    "\n",
    "headers = {\n",
    "    \"appkey\": json.load(open(\"./data/secrets.json\", \"r\"))[\"tmap\"][\"appkey\"],\n",
    "}\n",
    "\n",
    "\n",
    "# 현재 위치\n",
    "longitude = 127.02104432021666 \n",
    "latitude = 37.51423739733134\n",
    "\n",
    "for i in range(len(parkingzone)):# row\n",
    "    payload = {\n",
    "        \"startX\": longitude,\n",
    "        \"startY\": latitude,\n",
    "        \"endX\": parkingzone.loc[i, \"longitude\"],\n",
    "        \"endY\": parkingzone.loc[i, \"latitude\"], \n",
    "        \"startName\": \"현위치\",\n",
    "        \"endName\": \"주차장\"\n",
    "    }\n",
    "    \n",
    "    time.sleep(0.5)\n",
    "    res = requests.post(url, json=payload, headers=headers)\n",
    "\n",
    "    result = json.loads(res.text)\n",
    "    total_time = result[\"features\"][0][\"properties\"][\"totalTime\"]\n",
    "\n",
    "    if total_time < min_time:\n",
    "        nearest = result\n",
    "        min_time = total_time\n",
    "\n",
    "        \n",
    "print(nearest)\n",
    "resultData = nearest[\"features\"]"
   ]
  }
 ],
 "metadata": {
  "kernelspec": {
   "display_name": "Python 3 (ipykernel)",
   "language": "python",
   "name": "python3"
  },
  "language_info": {
   "codemirror_mode": {
    "name": "ipython",
    "version": 3
   },
   "file_extension": ".py",
   "mimetype": "text/x-python",
   "name": "python",
   "nbconvert_exporter": "python",
   "pygments_lexer": "ipython3",
   "version": "3.9.15"
  },
  "toc": {
   "base_numbering": 1,
   "nav_menu": {},
   "number_sections": true,
   "sideBar": true,
   "skip_h1_title": false,
   "title_cell": "Table of Contents",
   "title_sidebar": "Contents",
   "toc_cell": false,
   "toc_position": {},
   "toc_section_display": true,
   "toc_window_display": false
  },
  "varInspector": {
   "cols": {
    "lenName": 16,
    "lenType": 16,
    "lenVar": 40
   },
   "kernels_config": {
    "python": {
     "delete_cmd_postfix": "",
     "delete_cmd_prefix": "del ",
     "library": "var_list.py",
     "varRefreshCmd": "print(var_dic_list())"
    },
    "r": {
     "delete_cmd_postfix": ") ",
     "delete_cmd_prefix": "rm(",
     "library": "var_list.r",
     "varRefreshCmd": "cat(var_dic_list()) "
    }
   },
   "types_to_exclude": [
    "module",
    "function",
    "builtin_function_or_method",
    "instance",
    "_Feature"
   ],
   "window_display": false
  }
 },
 "nbformat": 4,
 "nbformat_minor": 5
}
