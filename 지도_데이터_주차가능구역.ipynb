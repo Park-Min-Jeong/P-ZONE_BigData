{
 "cells": [
  {
   "cell_type": "markdown",
   "id": "447523a5",
   "metadata": {},
   "source": [
    "# Basic"
   ]
  },
  {
   "cell_type": "code",
   "execution_count": 81,
   "id": "7eeb5e75",
   "metadata": {
    "ExecuteTime": {
     "end_time": "2023-01-31T01:30:41.763311Z",
     "start_time": "2023-01-31T01:30:41.750345Z"
    }
   },
   "outputs": [],
   "source": [
    "import pandas as pd\n",
    "import time\n",
    "from tqdm import tqdm\n",
    "import requests\n",
    "import json\n",
    "from urllib import parse\n",
    "\n",
    "raw_path = \"./data/raw/\"\n",
    "temp_path = \"./data/temp/\"\n",
    "data_path = \"./data/\""
   ]
  },
  {
   "cell_type": "code",
   "execution_count": 88,
   "id": "387400c9",
   "metadata": {
    "ExecuteTime": {
     "end_time": "2023-01-31T01:34:19.089429Z",
     "start_time": "2023-01-31T01:34:19.080453Z"
    }
   },
   "outputs": [],
   "source": [
    "def get_location(address):\n",
    "    url = \"https://dapi.kakao.com/v2/local/search/address.json?query=\" + address\n",
    "    headers = {\"Authorization\": \"KakaoAK d1a252f9abb2970a266494fd8b7161ad\"}\n",
    "    api_json = json.loads(str(requests.get(url, headers=headers).text))\n",
    "    address = api_json[\"documents\"][0][\"address\"]\n",
    "    return float(address[\"y\"]), float(address[\"x\"]), address[\"address_name\"]"
   ]
  },
  {
   "cell_type": "code",
   "execution_count": 161,
   "id": "57307e48",
   "metadata": {
    "ExecuteTime": {
     "end_time": "2023-01-31T01:45:43.972075Z",
     "start_time": "2023-01-31T01:45:43.960107Z"
    }
   },
   "outputs": [],
   "source": [
    "def whether_gangnam(latitude, longitude):    \n",
    "    url = \"https://apis.openapi.sk.com/tmap/geo/reversegeocoding?version=1\"\n",
    "\n",
    "    payload = {\n",
    "        \"appKey\": json.load(open(\"./data/secrets.json\", \"r\"))[\"tmap\"][\"appkey\"],\n",
    "        \"lon\": longitude,\n",
    "        \"lat\": latitude,\n",
    "    }\n",
    "\n",
    "    res = requests.get(url, params=payload)\n",
    "\n",
    "    try:\n",
    "        gu = json.loads(res.text)[\"addressInfo\"][\"gu_gun\"]\n",
    "    except:\n",
    "        return \"ERROR\"\n",
    "\n",
    "    if gu == \"강남구\":\n",
    "        return True\n",
    "    else:\n",
    "        return False"
   ]
  },
  {
   "cell_type": "code",
   "execution_count": 28,
   "id": "ba3a2393",
   "metadata": {
    "ExecuteTime": {
     "end_time": "2023-01-30T12:51:55.831431Z",
     "start_time": "2023-01-30T12:51:55.822455Z"
    }
   },
   "outputs": [],
   "source": [
    "def get_geocoding(dong, bunji):\n",
    "    url = \"https://apis.openapi.sk.com/tmap/geo/reversegeocoding?version=1\"\n",
    "    \n",
    "    payload = {\n",
    "        \"appKey\": json.load(open(\"./data/secrets.json\", \"r\"))[\"tmap\"][\"appkey\"],\n",
    "        \"city_do\": quote(\"서울특별시\"),\n",
    "        \"gu_gun\": quote(\"강남구\"),\n",
    "        \"dong\": quote(dong),\n",
    "        \"bunji\": quote(bunji),\n",
    "        \"addressFlag\": \"F02\"\n",
    "    }\n",
    "    \n",
    "    res = requests.get(url, params=payload)\n",
    "    \n",
    "    try:\n",
    "        info = json.loads(res.text)[\"coordinateInfo\"]\n",
    "        latitude = info[\"lat\"]\n",
    "        longitude = info[\"lon\"]\n",
    "    except:\n",
    "        return \"ERROR\"\n",
    "    \n",
    "    return (latitude, longitude)"
   ]
  },
  {
   "cell_type": "code",
   "execution_count": 74,
   "id": "dd3425b4",
   "metadata": {
    "ExecuteTime": {
     "end_time": "2023-01-30T13:27:19.873068Z",
     "start_time": "2023-01-30T13:27:19.333180Z"
    }
   },
   "outputs": [
    {
     "data": {
      "text/plain": [
       "{'coordinateInfo': {'coordType': 'WGS84GEO',\n",
       "  'addressFlag': 'F01',\n",
       "  'matchFlag': 'M12',\n",
       "  'lat': '37.519357',\n",
       "  'lon': '127.041283',\n",
       "  'city_do': '서울',\n",
       "  'gu_gun': '강남구',\n",
       "  'eup_myun': '',\n",
       "  'legalDong': '청담동',\n",
       "  'legalDongCode': '1168010400',\n",
       "  'adminDong': '청담동',\n",
       "  'adminDongCode': '1168056500',\n",
       "  'ri': '',\n",
       "  'bunji': '40-8',\n",
       "  'newMatchFlag': '',\n",
       "  'newLat': '',\n",
       "  'newLon': '',\n",
       "  'newRoadName': '',\n",
       "  'newBuildingIndex': '',\n",
       "  'newBuildingName': '',\n",
       "  'newBuildingCateName': '',\n",
       "  'remainder': '강남구청역 4번 출구'}}"
      ]
     },
     "execution_count": 74,
     "metadata": {},
     "output_type": "execute_result"
    }
   ],
   "source": [
    "url = \"https://apis.openapi.sk.com/tmap/geo/geocoding?version=1\"\n",
    "\n",
    "headers = {\"appKey\": json.load(open(\"./data/secrets.json\", \"r\"))[\"tmap\"][\"appkey\"]}\n",
    "\n",
    "payload = {\n",
    "    \"appKey\": json.load(open(\"./data/secrets.json\", \"r\"))[\"tmap\"][\"appkey\"],\n",
    "    \"city_do\": quote(\"서울특별시\"),\n",
    "    \"gu_gun\": quote(\"강남구\"),\n",
    "    \"dong\": quote(\"청담동\"),\n",
    "    \"bunji\": quote(\"41-2\"),\n",
    "    \"detailAddress\": quote(\"강남구청역 4번 출구\"),\n",
    "    \"addressFlag\": \"F01\"\n",
    "}\n",
    "\n",
    "res = requests.get(url, params=payload, headers=headers)\n",
    "json.loads(res.text)"
   ]
  },
  {
   "cell_type": "code",
   "execution_count": 80,
   "id": "8c4c07e3",
   "metadata": {
    "ExecuteTime": {
     "end_time": "2023-01-30T13:29:03.815674Z",
     "start_time": "2023-01-30T13:29:03.347232Z"
    }
   },
   "outputs": [
    {
     "data": {
      "text/plain": [
       "<Response [204]>"
      ]
     },
     "execution_count": 80,
     "metadata": {},
     "output_type": "execute_result"
    }
   ],
   "source": [
    "url = \"https://apis.openapi.sk.com/tmap/pois?version=1\"\n",
    "\n",
    "# headers = {\"appKey\": json.load(open(\"./data/secrets.json\", \"r\"))[\"tmap\"][\"appkey\"]}\n",
    "\n",
    "payload = {\n",
    "    \"appKey\": json.load(open(\"./data/secrets.json\", \"r\"))[\"tmap\"][\"appkey\"],\n",
    "    \"searchType\": \"all\",\n",
    "    \"searchKeyword\": parse.quote(\"역삼역\"),\n",
    "    \"areaLLCode\": \"11\",\n",
    "    \"areaLMCode\": \"680\"\n",
    "}\n",
    "\n",
    "res = requests.get(url, params=payload)\n",
    "res\n",
    "# json.loads(res.text)"
   ]
  },
  {
   "cell_type": "code",
   "execution_count": 69,
   "id": "a624747c",
   "metadata": {
    "ExecuteTime": {
     "end_time": "2023-01-30T13:24:03.730079Z",
     "start_time": "2023-01-30T13:24:03.720107Z"
    }
   },
   "outputs": [
    {
     "data": {
      "text/plain": [
       "'%EA%B0%95%EB%82%A8%EA%B5%AC%EC%B2%AD%EC%97%AD%204%EB%B2%88%EC%B6%9C%EA%B5%AC'"
      ]
     },
     "execution_count": 69,
     "metadata": {},
     "output_type": "execute_result"
    }
   ],
   "source": [
    "parse.quote(\"강남구청역 4번출구\")\n",
    "\n",
    "# 11 680 10100\n",
    "# 11\n",
    "# 680\n",
    "# 10400"
   ]
  },
  {
   "cell_type": "markdown",
   "id": "0023acda",
   "metadata": {
    "ExecuteTime": {
     "end_time": "2023-01-30T12:28:01.067842Z",
     "start_time": "2023-01-30T12:28:01.053881Z"
    }
   },
   "source": [
    "# 전동킥보드 전용 주차구역"
   ]
  },
  {
   "cell_type": "code",
   "execution_count": 91,
   "id": "087ce6f7",
   "metadata": {
    "ExecuteTime": {
     "end_time": "2023-01-31T01:38:07.410260Z",
     "start_time": "2023-01-31T01:38:06.943818Z"
    }
   },
   "outputs": [],
   "source": [
    "park_raw = pd.read_csv(raw_path + \"서울특별시 강남구_전동킥보드 주차구역_20221031.csv\", encoding=\"cp949\")\n",
    "\n",
    "col_list = [\"Name\", \"Latitude\", \"Longitude\"]\n",
    "park = pd.DataFrame(columns=col_list)\n",
    "\n",
    "for address in park_raw[\"도로명 주소\"]:\n",
    "    lat, lng, addr = get_location(address)\n",
    "    park = pd.concat([park, pd.DataFrame([[addr, lat, lng]], columns=col_list)], ignore_index=True)\n",
    "\n",
    "park = park.reset_index()\n",
    "park[\"type\"] = \"kickboard\"\n",
    "\n",
    "park.head()\n",
    "park.to_csv(temp_path + \"kickboard.csv\", index=False, encoding=\"utf-8\")"
   ]
  },
  {
   "cell_type": "code",
   "execution_count": 92,
   "id": "711d0d9f",
   "metadata": {
    "ExecuteTime": {
     "end_time": "2023-01-31T01:38:10.175667Z",
     "start_time": "2023-01-31T01:38:10.147670Z"
    }
   },
   "outputs": [
    {
     "data": {
      "text/html": [
       "<div>\n",
       "<style scoped>\n",
       "    .dataframe tbody tr th:only-of-type {\n",
       "        vertical-align: middle;\n",
       "    }\n",
       "\n",
       "    .dataframe tbody tr th {\n",
       "        vertical-align: top;\n",
       "    }\n",
       "\n",
       "    .dataframe thead th {\n",
       "        text-align: right;\n",
       "    }\n",
       "</style>\n",
       "<table border=\"1\" class=\"dataframe\">\n",
       "  <thead>\n",
       "    <tr style=\"text-align: right;\">\n",
       "      <th></th>\n",
       "      <th>index</th>\n",
       "      <th>Name</th>\n",
       "      <th>Latitude</th>\n",
       "      <th>Longitude</th>\n",
       "      <th>type</th>\n",
       "    </tr>\n",
       "  </thead>\n",
       "  <tbody>\n",
       "    <tr>\n",
       "      <th>0</th>\n",
       "      <td>0</td>\n",
       "      <td>서울 강남구 청담동 41-2</td>\n",
       "      <td>37.517641</td>\n",
       "      <td>127.041673</td>\n",
       "      <td>kickboard</td>\n",
       "    </tr>\n",
       "    <tr>\n",
       "      <th>1</th>\n",
       "      <td>1</td>\n",
       "      <td>서울 강남구 삼성동 145</td>\n",
       "      <td>37.512883</td>\n",
       "      <td>127.053852</td>\n",
       "      <td>kickboard</td>\n",
       "    </tr>\n",
       "    <tr>\n",
       "      <th>2</th>\n",
       "      <td>2</td>\n",
       "      <td>서울 강남구 역삼동 717</td>\n",
       "      <td>37.500605</td>\n",
       "      <td>127.038096</td>\n",
       "      <td>kickboard</td>\n",
       "    </tr>\n",
       "    <tr>\n",
       "      <th>3</th>\n",
       "      <td>3</td>\n",
       "      <td>서울 강남구 삼성동 52</td>\n",
       "      <td>37.518540</td>\n",
       "      <td>127.050709</td>\n",
       "      <td>kickboard</td>\n",
       "    </tr>\n",
       "    <tr>\n",
       "      <th>4</th>\n",
       "      <td>4</td>\n",
       "      <td>서울 강남구 논현동 129-1</td>\n",
       "      <td>37.513568</td>\n",
       "      <td>127.030541</td>\n",
       "      <td>kickboard</td>\n",
       "    </tr>\n",
       "    <tr>\n",
       "      <th>5</th>\n",
       "      <td>5</td>\n",
       "      <td>서울 강남구 신사동 501-2</td>\n",
       "      <td>37.516780</td>\n",
       "      <td>127.020108</td>\n",
       "      <td>kickboard</td>\n",
       "    </tr>\n",
       "  </tbody>\n",
       "</table>\n",
       "</div>"
      ],
      "text/plain": [
       "   index              Name   Latitude   Longitude       type\n",
       "0      0   서울 강남구 청담동 41-2  37.517641  127.041673  kickboard\n",
       "1      1    서울 강남구 삼성동 145  37.512883  127.053852  kickboard\n",
       "2      2    서울 강남구 역삼동 717  37.500605  127.038096  kickboard\n",
       "3      3     서울 강남구 삼성동 52  37.518540  127.050709  kickboard\n",
       "4      4  서울 강남구 논현동 129-1  37.513568  127.030541  kickboard\n",
       "5      5  서울 강남구 신사동 501-2  37.516780  127.020108  kickboard"
      ]
     },
     "execution_count": 92,
     "metadata": {},
     "output_type": "execute_result"
    }
   ],
   "source": [
    "park"
   ]
  },
  {
   "cell_type": "markdown",
   "id": "997c4d21",
   "metadata": {},
   "source": [
    "# 자전거 주차시설"
   ]
  },
  {
   "cell_type": "code",
   "execution_count": 184,
   "id": "65d1e8ab",
   "metadata": {
    "ExecuteTime": {
     "end_time": "2023-01-31T01:53:46.535317Z",
     "start_time": "2023-01-31T01:53:46.450543Z"
    }
   },
   "outputs": [
    {
     "data": {
      "text/html": [
       "<div>\n",
       "<style scoped>\n",
       "    .dataframe tbody tr th:only-of-type {\n",
       "        vertical-align: middle;\n",
       "    }\n",
       "\n",
       "    .dataframe tbody tr th {\n",
       "        vertical-align: top;\n",
       "    }\n",
       "\n",
       "    .dataframe thead th {\n",
       "        text-align: right;\n",
       "    }\n",
       "</style>\n",
       "<table border=\"1\" class=\"dataframe\">\n",
       "  <thead>\n",
       "    <tr style=\"text-align: right;\">\n",
       "      <th></th>\n",
       "      <th>순서</th>\n",
       "      <th>시설ID</th>\n",
       "      <th>컨텐츠 명</th>\n",
       "      <th>사용유무</th>\n",
       "      <th>테마 타입</th>\n",
       "      <th>x 좌표</th>\n",
       "      <th>y 좌표</th>\n",
       "      <th>좌표 배열</th>\n",
       "      <th>좌표타입</th>\n",
       "      <th>메인 이미지</th>\n",
       "      <th>...</th>\n",
       "      <th>상세정보 이름 6</th>\n",
       "      <th>상세정보 값 6</th>\n",
       "      <th>상세정보 이름 7</th>\n",
       "      <th>상세정보 값 7</th>\n",
       "      <th>상세정보 이름 8</th>\n",
       "      <th>상세정보 값 8</th>\n",
       "      <th>상세정보 이름 9</th>\n",
       "      <th>상세정보 값 9</th>\n",
       "      <th>상세정보 이름 10</th>\n",
       "      <th>상세정보 값 10</th>\n",
       "    </tr>\n",
       "  </thead>\n",
       "  <tbody>\n",
       "    <tr>\n",
       "      <th>0</th>\n",
       "      <td>1</td>\n",
       "      <td>공덕전철역 2번출구</td>\n",
       "      <td>자전거 일반거치대</td>\n",
       "      <td>사용</td>\n",
       "      <td>일반</td>\n",
       "      <td>126.950520</td>\n",
       "      <td>37.544413</td>\n",
       "      <td>[]</td>\n",
       "      <td>Point</td>\n",
       "      <td>NaN</td>\n",
       "      <td>...</td>\n",
       "      <td>운영형태(*수리센터만 선택하세요.)</td>\n",
       "      <td>NaN</td>\n",
       "      <td>수리범위(*수리센터만 선택하고 예 경정비 무상 부품교체 실비 등.)</td>\n",
       "      <td>NaN</td>\n",
       "      <td>이동수리센터 순회일정(*이동수리센터만 입력 예) 자치구 순회일정 안내 게시판 링크)</td>\n",
       "      <td>NaN</td>\n",
       "      <td>유의사항(예 O0학교 운영시간 외 이용불가 )</td>\n",
       "      <td>NaN</td>\n",
       "      <td>마포구청 교통행정과</td>\n",
       "      <td>마포구청 교통행정과</td>\n",
       "    </tr>\n",
       "    <tr>\n",
       "      <th>1</th>\n",
       "      <td>2</td>\n",
       "      <td>동대문구_자전거보관대_120</td>\n",
       "      <td>_자전거보관대</td>\n",
       "      <td>사용</td>\n",
       "      <td>일반</td>\n",
       "      <td>127.066702</td>\n",
       "      <td>37.588619</td>\n",
       "      <td>[]</td>\n",
       "      <td>Point</td>\n",
       "      <td>NaN</td>\n",
       "      <td>...</td>\n",
       "      <td>운영형태(*수리센터만 선택하세요.)</td>\n",
       "      <td>NaN</td>\n",
       "      <td>수리범위(*수리센터만 선택하고 예 경정비 무상 부품교체 실비 등.)</td>\n",
       "      <td>NaN</td>\n",
       "      <td>이동수리센터 순회일정(*이동수리센터만 입력 예) 자치구 순회일정 안내 게시판 링크)</td>\n",
       "      <td>NaN</td>\n",
       "      <td>유의사항(예 O0학교 운영시간 외 이용불가 )</td>\n",
       "      <td>NaN</td>\n",
       "      <td>NaN</td>\n",
       "      <td>NaN</td>\n",
       "    </tr>\n",
       "    <tr>\n",
       "      <th>2</th>\n",
       "      <td>3</td>\n",
       "      <td>강동구_수리센터_001</td>\n",
       "      <td>강동구자전거서비스센터</td>\n",
       "      <td>사용</td>\n",
       "      <td>일반</td>\n",
       "      <td>127.156898</td>\n",
       "      <td>37.555645</td>\n",
       "      <td>[]</td>\n",
       "      <td>Point</td>\n",
       "      <td>NaN</td>\n",
       "      <td>...</td>\n",
       "      <td>운영형태(*수리센터만 선택하세요.)</td>\n",
       "      <td>상설|</td>\n",
       "      <td>공임비 무상 부품교체 실비</td>\n",
       "      <td>NaN</td>\n",
       "      <td>이동수리센터 순회일정(*이동수리센터만 입력 예) 자치구 순회일정 안내 게시판 링크)</td>\n",
       "      <td>NaN</td>\n",
       "      <td>유의사항(예 O0학교 운영시간 외 이용불가 )</td>\n",
       "      <td>NaN</td>\n",
       "      <td>NaN</td>\n",
       "      <td>NaN</td>\n",
       "    </tr>\n",
       "    <tr>\n",
       "      <th>3</th>\n",
       "      <td>4</td>\n",
       "      <td>한강_수리센터_003</td>\n",
       "      <td>강서 자전거 대여소 수리센터</td>\n",
       "      <td>사용</td>\n",
       "      <td>일반</td>\n",
       "      <td>126.821933</td>\n",
       "      <td>37.584380</td>\n",
       "      <td>[]</td>\n",
       "      <td>Point</td>\n",
       "      <td>NaN</td>\n",
       "      <td>...</td>\n",
       "      <td>운영형태(*수리센터만 선택하세요.)</td>\n",
       "      <td>NaN</td>\n",
       "      <td>수리범위(*수리센터만 선택하고 예 경정비 무상 부품교체 실비 등.)</td>\n",
       "      <td>NaN</td>\n",
       "      <td>이동수리센터 순회일정(*이동수리센터만 입력 예) 자치구 순회일정 안내 게시판 링크)</td>\n",
       "      <td>NaN</td>\n",
       "      <td>유의사항(예 O0학교 운영시간 외 이용불가 )</td>\n",
       "      <td>NaN</td>\n",
       "      <td>NaN</td>\n",
       "      <td>NaN</td>\n",
       "    </tr>\n",
       "    <tr>\n",
       "      <th>4</th>\n",
       "      <td>5</td>\n",
       "      <td>구로구_자전거주차장_002</td>\n",
       "      <td>개봉역 자전거주차장</td>\n",
       "      <td>사용</td>\n",
       "      <td>일반</td>\n",
       "      <td>126.859377</td>\n",
       "      <td>37.495407</td>\n",
       "      <td>[126.8593768982035537.49540727677393]</td>\n",
       "      <td>Point</td>\n",
       "      <td>NaN</td>\n",
       "      <td>...</td>\n",
       "      <td>운영형태(*수리센터만 선택하세요.)</td>\n",
       "      <td>NaN</td>\n",
       "      <td>수리범위(*수리센터만 선택하고 예 경정비 무상 부품교체 실비 등.)</td>\n",
       "      <td>NaN</td>\n",
       "      <td>이동수리센터 순회일정(*이동수리센터만 입력 예) 자치구 순회일정 안내 게시판 링크)</td>\n",
       "      <td>NaN</td>\n",
       "      <td>유의사항(예 O0학교 운영시간 외 이용불가 )</td>\n",
       "      <td>NaN</td>\n",
       "      <td>구로구 교통행정과</td>\n",
       "      <td>구로구 교통행정과</td>\n",
       "    </tr>\n",
       "    <tr>\n",
       "      <th>...</th>\n",
       "      <td>...</td>\n",
       "      <td>...</td>\n",
       "      <td>...</td>\n",
       "      <td>...</td>\n",
       "      <td>...</td>\n",
       "      <td>...</td>\n",
       "      <td>...</td>\n",
       "      <td>...</td>\n",
       "      <td>...</td>\n",
       "      <td>...</td>\n",
       "      <td>...</td>\n",
       "      <td>...</td>\n",
       "      <td>...</td>\n",
       "      <td>...</td>\n",
       "      <td>...</td>\n",
       "      <td>...</td>\n",
       "      <td>...</td>\n",
       "      <td>...</td>\n",
       "      <td>...</td>\n",
       "      <td>...</td>\n",
       "      <td>...</td>\n",
       "    </tr>\n",
       "    <tr>\n",
       "      <th>2518</th>\n",
       "      <td>2548</td>\n",
       "      <td>합정역 자전거주차장</td>\n",
       "      <td>합정역 자전거주차장</td>\n",
       "      <td>사용</td>\n",
       "      <td>일반</td>\n",
       "      <td>126.912560</td>\n",
       "      <td>37.549623</td>\n",
       "      <td>[]</td>\n",
       "      <td>Point</td>\n",
       "      <td>NaN</td>\n",
       "      <td>...</td>\n",
       "      <td>운영형태(*수리센터만 선택하세요.)</td>\n",
       "      <td>NaN</td>\n",
       "      <td>수리범위(*수리센터만 선택하고 예 경정비 무상 부품교체 실비 등.)</td>\n",
       "      <td>NaN</td>\n",
       "      <td>이동수리센터 순회일정(*이동수리센터만 입력 예) 자치구 순회일정 안내 게시판 링크)</td>\n",
       "      <td>NaN</td>\n",
       "      <td>유의사항(예 O0학교 운영시간 외 이용불가 )</td>\n",
       "      <td>NaN</td>\n",
       "      <td>NaN</td>\n",
       "      <td>NaN</td>\n",
       "    </tr>\n",
       "    <tr>\n",
       "      <th>2519</th>\n",
       "      <td>2549</td>\n",
       "      <td>노원구_공기주입기_022</td>\n",
       "      <td>호산나교회 옆_공기주입기</td>\n",
       "      <td>사용</td>\n",
       "      <td>일반</td>\n",
       "      <td>127.060355</td>\n",
       "      <td>37.639370</td>\n",
       "      <td>[]</td>\n",
       "      <td>Point</td>\n",
       "      <td>https://map.seoul.go.kr/smgis/ucimgs/conts/111...</td>\n",
       "      <td>...</td>\n",
       "      <td>운영형태(*수리센터만 선택하세요.)</td>\n",
       "      <td>NaN</td>\n",
       "      <td>수리범위(*수리센터만 선택하고 예 경정비 무상 부품교체 실비 등.)</td>\n",
       "      <td>NaN</td>\n",
       "      <td>이동수리센터 순회일정(*이동수리센터만 입력 예) 자치구 순회일정 안내 게시판 링크)</td>\n",
       "      <td>NaN</td>\n",
       "      <td>유의사항(예 O0학교 운영시간 외 이용불가 )</td>\n",
       "      <td>NaN</td>\n",
       "      <td>노원구청 교통지도과</td>\n",
       "      <td>노원구청 교통지도과</td>\n",
       "    </tr>\n",
       "    <tr>\n",
       "      <th>2520</th>\n",
       "      <td>2550</td>\n",
       "      <td>홍대입구역 자전거주차장</td>\n",
       "      <td>홍대입구역 자전거주차장</td>\n",
       "      <td>사용</td>\n",
       "      <td>일반</td>\n",
       "      <td>126.929124</td>\n",
       "      <td>37.556402</td>\n",
       "      <td>[]</td>\n",
       "      <td>Point</td>\n",
       "      <td>NaN</td>\n",
       "      <td>...</td>\n",
       "      <td>운영형태(*수리센터만 선택하세요.)</td>\n",
       "      <td>NaN</td>\n",
       "      <td>수리범위(*수리센터만 선택하고 예 경정비 무상 부품교체 실비 등.)</td>\n",
       "      <td>NaN</td>\n",
       "      <td>이동수리센터 순회일정(*이동수리센터만 입력 예) 자치구 순회일정 안내 게시판 링크)</td>\n",
       "      <td>NaN</td>\n",
       "      <td>유의사항(예 O0학교 운영시간 외 이용불가 )</td>\n",
       "      <td>NaN</td>\n",
       "      <td>마포구청 교통행정과</td>\n",
       "      <td>마포구청 교통행정과</td>\n",
       "    </tr>\n",
       "    <tr>\n",
       "      <th>2521</th>\n",
       "      <td>2551</td>\n",
       "      <td>중랑구_거치대_001</td>\n",
       "      <td>화랑대역 주차장 내</td>\n",
       "      <td>사용</td>\n",
       "      <td>일반</td>\n",
       "      <td>127.086062</td>\n",
       "      <td>37.619934</td>\n",
       "      <td>[127.086061916025237.61993353943017]</td>\n",
       "      <td>Point</td>\n",
       "      <td>NaN</td>\n",
       "      <td>...</td>\n",
       "      <td>운영형태(*수리센터만 선택하세요.)</td>\n",
       "      <td>NaN</td>\n",
       "      <td>수리범위(*수리센터만 선택하고 예 경정비 무상 부품교체 실비 등.)</td>\n",
       "      <td>NaN</td>\n",
       "      <td>이동수리센터 순회일정(*이동수리센터만 입력 예) 자치구 순회일정 안내 게시판 링크)</td>\n",
       "      <td>NaN</td>\n",
       "      <td>유의사항(예 O0학교 운영시간 외 이용불가 )</td>\n",
       "      <td>NaN</td>\n",
       "      <td>NaN</td>\n",
       "      <td>NaN</td>\n",
       "    </tr>\n",
       "    <tr>\n",
       "      <th>2522</th>\n",
       "      <td>2552</td>\n",
       "      <td>노원구_공기주입기_011</td>\n",
       "      <td>화랑대역2번_공기주입기</td>\n",
       "      <td>사용</td>\n",
       "      <td>일반</td>\n",
       "      <td>127.083884</td>\n",
       "      <td>37.620410</td>\n",
       "      <td>[]</td>\n",
       "      <td>Point</td>\n",
       "      <td>https://map.seoul.go.kr/smgis/ucimgs/conts/111...</td>\n",
       "      <td>...</td>\n",
       "      <td>운영형태(*수리센터만 선택하세요.)</td>\n",
       "      <td>NaN</td>\n",
       "      <td>수리범위(*수리센터만 선택하고 예 경정비 무상 부품교체 실비 등.)</td>\n",
       "      <td>NaN</td>\n",
       "      <td>이동수리센터 순회일정(*이동수리센터만 입력 예) 자치구 순회일정 안내 게시판 링크)</td>\n",
       "      <td>NaN</td>\n",
       "      <td>유의사항(예 O0학교 운영시간 외 이용불가 )</td>\n",
       "      <td>NaN</td>\n",
       "      <td>노원구청 교통지도과</td>\n",
       "      <td>노원구청 교통지도과</td>\n",
       "    </tr>\n",
       "  </tbody>\n",
       "</table>\n",
       "<p>2523 rows × 47 columns</p>\n",
       "</div>"
      ],
      "text/plain": [
       "        순서             시설ID            컨텐츠 명 사용유무 테마 타입        x 좌표  \\\n",
       "0        1       공덕전철역 2번출구        자전거 일반거치대   사용    일반  126.950520   \n",
       "1        2  동대문구_자전거보관대_120          _자전거보관대   사용    일반  127.066702   \n",
       "2        3     강동구_수리센터_001      강동구자전거서비스센터   사용    일반  127.156898   \n",
       "3        4      한강_수리센터_003  강서 자전거 대여소 수리센터   사용    일반  126.821933   \n",
       "4        5   구로구_자전거주차장_002       개봉역 자전거주차장   사용    일반  126.859377   \n",
       "...    ...              ...              ...  ...   ...         ...   \n",
       "2518  2548       합정역 자전거주차장       합정역 자전거주차장   사용    일반  126.912560   \n",
       "2519  2549    노원구_공기주입기_022    호산나교회 옆_공기주입기   사용    일반  127.060355   \n",
       "2520  2550     홍대입구역 자전거주차장     홍대입구역 자전거주차장   사용    일반  126.929124   \n",
       "2521  2551      중랑구_거치대_001       화랑대역 주차장 내   사용    일반  127.086062   \n",
       "2522  2552    노원구_공기주입기_011     화랑대역2번_공기주입기   사용    일반  127.083884   \n",
       "\n",
       "           y 좌표                                  좌표 배열   좌표타입  \\\n",
       "0     37.544413                                     []  Point   \n",
       "1     37.588619                                     []  Point   \n",
       "2     37.555645                                     []  Point   \n",
       "3     37.584380                                     []  Point   \n",
       "4     37.495407  [126.8593768982035537.49540727677393]  Point   \n",
       "...         ...                                    ...    ...   \n",
       "2518  37.549623                                     []  Point   \n",
       "2519  37.639370                                     []  Point   \n",
       "2520  37.556402                                     []  Point   \n",
       "2521  37.619934   [127.086061916025237.61993353943017]  Point   \n",
       "2522  37.620410                                     []  Point   \n",
       "\n",
       "                                                 메인 이미지  ...  \\\n",
       "0                                                   NaN  ...   \n",
       "1                                                   NaN  ...   \n",
       "2                                                   NaN  ...   \n",
       "3                                                   NaN  ...   \n",
       "4                                                   NaN  ...   \n",
       "...                                                 ...  ...   \n",
       "2518                                                NaN  ...   \n",
       "2519  https://map.seoul.go.kr/smgis/ucimgs/conts/111...  ...   \n",
       "2520                                                NaN  ...   \n",
       "2521                                                NaN  ...   \n",
       "2522  https://map.seoul.go.kr/smgis/ucimgs/conts/111...  ...   \n",
       "\n",
       "                상세정보 이름 6 상세정보 값 6                              상세정보 이름 7  \\\n",
       "0     운영형태(*수리센터만 선택하세요.)      NaN  수리범위(*수리센터만 선택하고 예 경정비 무상 부품교체 실비 등.)   \n",
       "1     운영형태(*수리센터만 선택하세요.)      NaN  수리범위(*수리센터만 선택하고 예 경정비 무상 부품교체 실비 등.)   \n",
       "2     운영형태(*수리센터만 선택하세요.)      상설|                         공임비 무상 부품교체 실비   \n",
       "3     운영형태(*수리센터만 선택하세요.)      NaN  수리범위(*수리센터만 선택하고 예 경정비 무상 부품교체 실비 등.)   \n",
       "4     운영형태(*수리센터만 선택하세요.)      NaN  수리범위(*수리센터만 선택하고 예 경정비 무상 부품교체 실비 등.)   \n",
       "...                   ...      ...                                    ...   \n",
       "2518  운영형태(*수리센터만 선택하세요.)      NaN  수리범위(*수리센터만 선택하고 예 경정비 무상 부품교체 실비 등.)   \n",
       "2519  운영형태(*수리센터만 선택하세요.)      NaN  수리범위(*수리센터만 선택하고 예 경정비 무상 부품교체 실비 등.)   \n",
       "2520  운영형태(*수리센터만 선택하세요.)      NaN  수리범위(*수리센터만 선택하고 예 경정비 무상 부품교체 실비 등.)   \n",
       "2521  운영형태(*수리센터만 선택하세요.)      NaN  수리범위(*수리센터만 선택하고 예 경정비 무상 부품교체 실비 등.)   \n",
       "2522  운영형태(*수리센터만 선택하세요.)      NaN  수리범위(*수리센터만 선택하고 예 경정비 무상 부품교체 실비 등.)   \n",
       "\n",
       "     상세정보 값 7                                       상세정보 이름 8  상세정보 값 8  \\\n",
       "0         NaN  이동수리센터 순회일정(*이동수리센터만 입력 예) 자치구 순회일정 안내 게시판 링크)       NaN   \n",
       "1         NaN  이동수리센터 순회일정(*이동수리센터만 입력 예) 자치구 순회일정 안내 게시판 링크)       NaN   \n",
       "2         NaN  이동수리센터 순회일정(*이동수리센터만 입력 예) 자치구 순회일정 안내 게시판 링크)       NaN   \n",
       "3         NaN  이동수리센터 순회일정(*이동수리센터만 입력 예) 자치구 순회일정 안내 게시판 링크)       NaN   \n",
       "4         NaN  이동수리센터 순회일정(*이동수리센터만 입력 예) 자치구 순회일정 안내 게시판 링크)       NaN   \n",
       "...       ...                                             ...       ...   \n",
       "2518      NaN  이동수리센터 순회일정(*이동수리센터만 입력 예) 자치구 순회일정 안내 게시판 링크)       NaN   \n",
       "2519      NaN  이동수리센터 순회일정(*이동수리센터만 입력 예) 자치구 순회일정 안내 게시판 링크)       NaN   \n",
       "2520      NaN  이동수리센터 순회일정(*이동수리센터만 입력 예) 자치구 순회일정 안내 게시판 링크)       NaN   \n",
       "2521      NaN  이동수리센터 순회일정(*이동수리센터만 입력 예) 자치구 순회일정 안내 게시판 링크)       NaN   \n",
       "2522      NaN  이동수리센터 순회일정(*이동수리센터만 입력 예) 자치구 순회일정 안내 게시판 링크)       NaN   \n",
       "\n",
       "                      상세정보 이름 9 상세정보 값 9  상세정보 이름 10   상세정보 값 10  \n",
       "0     유의사항(예 O0학교 운영시간 외 이용불가 )      NaN  마포구청 교통행정과  마포구청 교통행정과  \n",
       "1     유의사항(예 O0학교 운영시간 외 이용불가 )      NaN         NaN         NaN  \n",
       "2     유의사항(예 O0학교 운영시간 외 이용불가 )      NaN         NaN         NaN  \n",
       "3     유의사항(예 O0학교 운영시간 외 이용불가 )      NaN         NaN         NaN  \n",
       "4     유의사항(예 O0학교 운영시간 외 이용불가 )      NaN   구로구 교통행정과   구로구 교통행정과  \n",
       "...                         ...      ...         ...         ...  \n",
       "2518  유의사항(예 O0학교 운영시간 외 이용불가 )      NaN         NaN         NaN  \n",
       "2519  유의사항(예 O0학교 운영시간 외 이용불가 )      NaN  노원구청 교통지도과  노원구청 교통지도과  \n",
       "2520  유의사항(예 O0학교 운영시간 외 이용불가 )      NaN  마포구청 교통행정과  마포구청 교통행정과  \n",
       "2521  유의사항(예 O0학교 운영시간 외 이용불가 )      NaN         NaN         NaN  \n",
       "2522  유의사항(예 O0학교 운영시간 외 이용불가 )      NaN  노원구청 교통지도과  노원구청 교통지도과  \n",
       "\n",
       "[2523 rows x 47 columns]"
      ]
     },
     "execution_count": 184,
     "metadata": {},
     "output_type": "execute_result"
    }
   ],
   "source": [
    "bicycle = pd.read_csv(raw_path + \"서울시 자전거 편의시설.csv\", encoding=\"cp949\")\n",
    "bicycle[[\"y 좌표\", \"x 좌표\"]]\n",
    "bicycle"
   ]
  },
  {
   "cell_type": "code",
   "execution_count": 189,
   "id": "d87841c8",
   "metadata": {
    "ExecuteTime": {
     "end_time": "2023-01-31T01:54:27.039821Z",
     "start_time": "2023-01-31T01:54:27.025859Z"
    }
   },
   "outputs": [
    {
     "data": {
      "text/plain": [
       "array(['마포구청 교통행정과', nan, '구로구 교통행정과', '노원구청 교통지도과', '영등포구 교통행정과',\n",
       "       '한강사업본부 시민활동지원과', '노원구 교통지도과', '서울교통공사 9호선운영부문',\n",
       "       '마포구청 교통행정과(02-3153-9643)', '서초구청 교통행정과', '광진구청 교통행정과',\n",
       "       '성북지역자활센터 02-927-2420', '강남구청 교통행정과', '성동구청 교통행정과', '성북지역자활센터 ',\n",
       "       '구로구청 교통행정과', '서울구로삶터지역자활센터', '영등포구청 교통행정과',\n",
       "       '서울중랑유린지역자활센터 지역재생사업단', '양천구청 교통행정과', '강서구청 교통시설팀', '교통행정과 교통시설팀',\n",
       "       '양천구 교통행정과', '강서구청 교통행정과 교통시설팀', '교통시설팀 교통행정과', '용산구청 교통행정과',\n",
       "       '푸른도시과 관리', '장충파출소', '관리부서: 강서구청 교통행정과', '성북구청 교통행정과', '성북구 교통행정과',\n",
       "       '교통행정과', '은평구 교통행정과'], dtype=object)"
      ]
     },
     "execution_count": 189,
     "metadata": {},
     "output_type": "execute_result"
    }
   ],
   "source": [
    "bicycle[\"상세정보 값 10\"].unique()"
   ]
  },
  {
   "cell_type": "code",
   "execution_count": 182,
   "id": "5a9c7370",
   "metadata": {
    "ExecuteTime": {
     "end_time": "2023-01-31T01:52:30.968475Z",
     "start_time": "2023-01-31T01:51:19.698246Z"
    }
   },
   "outputs": [
    {
     "name": "stderr",
     "output_type": "stream",
     "text": [
      "100%|████████████████████████████████████████████████████████████████████████████████| 365/365 [01:11<00:00,  5.12it/s]\n"
     ]
    }
   ],
   "source": [
    "bicycle = bicycle[(bicycle[\"상세정보 이름 5\"]!=\"설치/이용가능대수\") & (bicycle[\"상세정보 이름 5\"]!=\"설치/이용가능대수(예 00대)\")][[\"시설ID\", \"컨텐츠 명\", \"y 좌표\", \"x 좌표\"]]\n",
    "bicycle = bicycle.rename({\"y 좌표\": \"Latitude\", \"x 좌표\": \"Longitude\"}, axis=1).reset_index(drop=True)\n",
    "\n",
    "for i in tqdm(range(len(bicycle))):\n",
    "    bicycle.loc[i, \"gangnam\"] = whether_gangnam(bicycle.loc[i, \"Latitude\"], bicycle.loc[i, \"Longitude\"])"
   ]
  },
  {
   "cell_type": "code",
   "execution_count": 178,
   "id": "513507cc",
   "metadata": {
    "ExecuteTime": {
     "end_time": "2023-01-31T01:50:44.465184Z",
     "start_time": "2023-01-31T01:50:44.448887Z"
    }
   },
   "outputs": [
    {
     "name": "stdout",
     "output_type": "stream",
     "text": [
      "<class 'pandas.core.frame.DataFrame'>\n",
      "RangeIndex: 365 entries, 0 to 364\n",
      "Data columns (total 4 columns):\n",
      " #   Column     Non-Null Count  Dtype  \n",
      "---  ------     --------------  -----  \n",
      " 0   시설ID       365 non-null    object \n",
      " 1   컨텐츠 명      365 non-null    object \n",
      " 2   Latitude   365 non-null    float64\n",
      " 3   Longitude  365 non-null    float64\n",
      "dtypes: float64(2), object(2)\n",
      "memory usage: 11.5+ KB\n"
     ]
    }
   ],
   "source": [
    "bicycle.info()"
   ]
  },
  {
   "cell_type": "code",
   "execution_count": null,
   "id": "6c813dcf",
   "metadata": {},
   "outputs": [],
   "source": []
  },
  {
   "cell_type": "code",
   "execution_count": 174,
   "id": "71fea226",
   "metadata": {
    "ExecuteTime": {
     "end_time": "2023-01-31T01:50:14.606660Z",
     "start_time": "2023-01-31T01:50:14.585271Z"
    }
   },
   "outputs": [
    {
     "name": "stdout",
     "output_type": "stream",
     "text": [
      "0\n",
      "<class 'pandas.core.frame.DataFrame'>\n",
      "Int64Index: 0 entries\n",
      "Data columns (total 5 columns):\n",
      " #   Column     Non-Null Count  Dtype  \n",
      "---  ------     --------------  -----  \n",
      " 0   시설ID       0 non-null      object \n",
      " 1   컨텐츠 명      0 non-null      object \n",
      " 2   Latitude   0 non-null      float64\n",
      " 3   Longitude  0 non-null      float64\n",
      " 4   gangnam    0 non-null      object \n",
      "dtypes: float64(2), object(3)\n",
      "memory usage: 0.0+ bytes\n",
      "None\n"
     ]
    },
    {
     "data": {
      "text/html": [
       "<div>\n",
       "<style scoped>\n",
       "    .dataframe tbody tr th:only-of-type {\n",
       "        vertical-align: middle;\n",
       "    }\n",
       "\n",
       "    .dataframe tbody tr th {\n",
       "        vertical-align: top;\n",
       "    }\n",
       "\n",
       "    .dataframe thead th {\n",
       "        text-align: right;\n",
       "    }\n",
       "</style>\n",
       "<table border=\"1\" class=\"dataframe\">\n",
       "  <thead>\n",
       "    <tr style=\"text-align: right;\">\n",
       "      <th></th>\n",
       "      <th>시설ID</th>\n",
       "      <th>컨텐츠 명</th>\n",
       "      <th>Latitude</th>\n",
       "      <th>Longitude</th>\n",
       "      <th>gangnam</th>\n",
       "    </tr>\n",
       "  </thead>\n",
       "  <tbody>\n",
       "  </tbody>\n",
       "</table>\n",
       "</div>"
      ],
      "text/plain": [
       "Empty DataFrame\n",
       "Columns: [시설ID, 컨텐츠 명, Latitude, Longitude, gangnam]\n",
       "Index: []"
      ]
     },
     "execution_count": 174,
     "metadata": {},
     "output_type": "execute_result"
    }
   ],
   "source": [
    "bicycle = bicycle[bicycle[\"gangnam\"]==True]\n",
    "# bus = bicycle.drop([\"gangnam\"], axis=1).reset_index(drop=True).reset_index()\n",
    "\n",
    "print(len(bicycle))\n",
    "print(bicycle.info())\n",
    "bicycle.head()"
   ]
  },
  {
   "cell_type": "markdown",
   "id": "095c7022",
   "metadata": {},
   "source": [
    "# concat"
   ]
  },
  {
   "cell_type": "code",
   "execution_count": null,
   "id": "02d0e3ce",
   "metadata": {},
   "outputs": [],
   "source": [
    "data_list = [\"kickboard\", \"bicycle\"]"
   ]
  },
  {
   "cell_type": "code",
   "execution_count": null,
   "id": "f41307dc",
   "metadata": {},
   "outputs": [],
   "source": [
    "parkingzone = pd.DataFrame(columns=[\"index\", \"Name\", \"Latitude\", \"Longitude\", \"type\"])\n",
    "\n",
    "for data in data_list:\n",
    "    data_df = pd.read_csv(f\"{temp_path}{data}.csv\")\n",
    "    data_df[\"type\"] = data\n",
    "    parkingzone = pd.concat([parkingzone, data_df], ignore_index=True)\n",
    "\n",
    "print(len(parkingzone))\n",
    "print(parkingzone.info())\n",
    "parkingzone.head()"
   ]
  },
  {
   "cell_type": "code",
   "execution_count": 190,
   "id": "46e038e3",
   "metadata": {
    "ExecuteTime": {
     "end_time": "2023-01-31T01:55:00.463702Z",
     "start_time": "2023-01-31T01:55:00.448740Z"
    }
   },
   "outputs": [
    {
     "data": {
      "text/html": [
       "<div>\n",
       "<style scoped>\n",
       "    .dataframe tbody tr th:only-of-type {\n",
       "        vertical-align: middle;\n",
       "    }\n",
       "\n",
       "    .dataframe tbody tr th {\n",
       "        vertical-align: top;\n",
       "    }\n",
       "\n",
       "    .dataframe thead th {\n",
       "        text-align: right;\n",
       "    }\n",
       "</style>\n",
       "<table border=\"1\" class=\"dataframe\">\n",
       "  <thead>\n",
       "    <tr style=\"text-align: right;\">\n",
       "      <th></th>\n",
       "      <th>index</th>\n",
       "      <th>Name</th>\n",
       "      <th>Latitude</th>\n",
       "      <th>Longitude</th>\n",
       "      <th>type</th>\n",
       "    </tr>\n",
       "  </thead>\n",
       "  <tbody>\n",
       "    <tr>\n",
       "      <th>0</th>\n",
       "      <td>0</td>\n",
       "      <td>서울 강남구 청담동 41-2</td>\n",
       "      <td>37.517641</td>\n",
       "      <td>127.041673</td>\n",
       "      <td>kickboard</td>\n",
       "    </tr>\n",
       "    <tr>\n",
       "      <th>1</th>\n",
       "      <td>1</td>\n",
       "      <td>서울 강남구 삼성동 145</td>\n",
       "      <td>37.512883</td>\n",
       "      <td>127.053852</td>\n",
       "      <td>kickboard</td>\n",
       "    </tr>\n",
       "    <tr>\n",
       "      <th>2</th>\n",
       "      <td>2</td>\n",
       "      <td>서울 강남구 역삼동 717</td>\n",
       "      <td>37.500605</td>\n",
       "      <td>127.038096</td>\n",
       "      <td>kickboard</td>\n",
       "    </tr>\n",
       "    <tr>\n",
       "      <th>3</th>\n",
       "      <td>3</td>\n",
       "      <td>서울 강남구 삼성동 52</td>\n",
       "      <td>37.518540</td>\n",
       "      <td>127.050709</td>\n",
       "      <td>kickboard</td>\n",
       "    </tr>\n",
       "    <tr>\n",
       "      <th>4</th>\n",
       "      <td>4</td>\n",
       "      <td>서울 강남구 논현동 129-1</td>\n",
       "      <td>37.513568</td>\n",
       "      <td>127.030541</td>\n",
       "      <td>kickboard</td>\n",
       "    </tr>\n",
       "    <tr>\n",
       "      <th>5</th>\n",
       "      <td>5</td>\n",
       "      <td>서울 강남구 신사동 501-2</td>\n",
       "      <td>37.516780</td>\n",
       "      <td>127.020108</td>\n",
       "      <td>kickboard</td>\n",
       "    </tr>\n",
       "  </tbody>\n",
       "</table>\n",
       "</div>"
      ],
      "text/plain": [
       "   index              Name   Latitude   Longitude       type\n",
       "0      0   서울 강남구 청담동 41-2  37.517641  127.041673  kickboard\n",
       "1      1    서울 강남구 삼성동 145  37.512883  127.053852  kickboard\n",
       "2      2    서울 강남구 역삼동 717  37.500605  127.038096  kickboard\n",
       "3      3     서울 강남구 삼성동 52  37.518540  127.050709  kickboard\n",
       "4      4  서울 강남구 논현동 129-1  37.513568  127.030541  kickboard\n",
       "5      5  서울 강남구 신사동 501-2  37.516780  127.020108  kickboard"
      ]
     },
     "execution_count": 190,
     "metadata": {},
     "output_type": "execute_result"
    }
   ],
   "source": [
    "kickboard = pd.read_csv(temp_path + \"kickboard.csv\")\n",
    "kickboard"
   ]
  },
  {
   "cell_type": "code",
   "execution_count": 191,
   "id": "0511d9f8",
   "metadata": {
    "ExecuteTime": {
     "end_time": "2023-01-31T02:31:59.362612Z",
     "start_time": "2023-01-31T02:31:59.344633Z"
    }
   },
   "outputs": [],
   "source": [
    "def get_dong(latitude, longitude):\n",
    "    url = \"https://apis.openapi.sk.com/tmap/geo/reversegeocoding?version=1\"\n",
    "\n",
    "    payload = {\n",
    "        \"appKey\": \"l7xx0ffb87c22bdb45ae8facaeeb7958ad36\",\n",
    "        \"lon\": longitude,\n",
    "        \"lat\": latitude,\n",
    "    }\n",
    "\n",
    "    res = requests.get(url, params=payload)\n",
    "\n",
    "    try:\n",
    "        dongCode = json.loads(res.text)[\"addressInfo\"][\"legalDongCode\"][5:8]\n",
    "    except:\n",
    "        return \"ERROR\"\n",
    "\n",
    "    if dongCode in dong[\"dongCode\"].unique():\n",
    "        return dongCode\n",
    "    else:\n",
    "        return \"Invalid Code\""
   ]
  },
  {
   "cell_type": "code",
   "execution_count": 195,
   "id": "e669a8bf",
   "metadata": {
    "ExecuteTime": {
     "end_time": "2023-01-31T02:32:35.904508Z",
     "start_time": "2023-01-31T02:32:35.079758Z"
    }
   },
   "outputs": [
    {
     "name": "stderr",
     "output_type": "stream",
     "text": [
      "100%|████████████████████████████████████████████████████████████████████████████████████| 6/6 [00:00<00:00,  7.38it/s]\n"
     ]
    }
   ],
   "source": [
    "for i in tqdm(range(len(kickboard))):\n",
    "    kickboard.loc[i, \"dongCode\"] = get_dong(kickboard.loc[i, \"Latitude\"], kickboard.loc[i, \"Longitude\"])"
   ]
  },
  {
   "cell_type": "code",
   "execution_count": 193,
   "id": "b0571a7a",
   "metadata": {
    "ExecuteTime": {
     "end_time": "2023-01-31T02:32:26.455391Z",
     "start_time": "2023-01-31T02:32:26.431458Z"
    }
   },
   "outputs": [],
   "source": [
    "dong = pd.read_csv(data_path + \"dong.csv\", dtype=\"object\")"
   ]
  },
  {
   "cell_type": "code",
   "execution_count": 197,
   "id": "de67c78f",
   "metadata": {
    "ExecuteTime": {
     "end_time": "2023-01-31T02:32:47.260818Z",
     "start_time": "2023-01-31T02:32:47.241799Z"
    }
   },
   "outputs": [],
   "source": [
    "kickboard.to_csv(data_path + \"parkingzone.csv\", index=False, encoding=\"utf-8\")"
   ]
  }
 ],
 "metadata": {
  "kernelspec": {
   "display_name": "Python 3 (ipykernel)",
   "language": "python",
   "name": "python3"
  },
  "language_info": {
   "codemirror_mode": {
    "name": "ipython",
    "version": 3
   },
   "file_extension": ".py",
   "mimetype": "text/x-python",
   "name": "python",
   "nbconvert_exporter": "python",
   "pygments_lexer": "ipython3",
   "version": "3.9.15"
  },
  "toc": {
   "base_numbering": 1,
   "nav_menu": {},
   "number_sections": true,
   "sideBar": true,
   "skip_h1_title": false,
   "title_cell": "Table of Contents",
   "title_sidebar": "Contents",
   "toc_cell": false,
   "toc_position": {},
   "toc_section_display": true,
   "toc_window_display": false
  },
  "varInspector": {
   "cols": {
    "lenName": 16,
    "lenType": 16,
    "lenVar": 40
   },
   "kernels_config": {
    "python": {
     "delete_cmd_postfix": "",
     "delete_cmd_prefix": "del ",
     "library": "var_list.py",
     "varRefreshCmd": "print(var_dic_list())"
    },
    "r": {
     "delete_cmd_postfix": ") ",
     "delete_cmd_prefix": "rm(",
     "library": "var_list.r",
     "varRefreshCmd": "cat(var_dic_list()) "
    }
   },
   "types_to_exclude": [
    "module",
    "function",
    "builtin_function_or_method",
    "instance",
    "_Feature"
   ],
   "window_display": false
  }
 },
 "nbformat": 4,
 "nbformat_minor": 5
}
