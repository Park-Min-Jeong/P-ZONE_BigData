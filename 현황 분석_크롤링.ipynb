{
 "cells": [
  {
   "cell_type": "markdown",
   "id": "ec8ed7e8",
   "metadata": {},
   "source": [
    "# 네이버 api 사용"
   ]
  },
  {
   "cell_type": "code",
   "execution_count": 21,
   "id": "6d280f44",
   "metadata": {
    "ExecuteTime": {
     "end_time": "2023-01-30T11:12:43.309669Z",
     "start_time": "2023-01-30T11:12:43.287728Z"
    }
   },
   "outputs": [],
   "source": [
    "import os\n",
    "import sys\n",
    "import urllib.request\n",
    "import json\n",
    "import datetime\n",
    "import pandas as pd\n",
    "from tqdm import tqdm\n",
    "\n",
    "\n",
    "def naver_api_key():\n",
    "    naver_keys = json.load(open(\"./data/secrets.json\", \"r\"))[\"naver\"]\n",
    "    client_id = naver_keys[\"client_id\"]\n",
    "    client_secret = naver_keys[\"client_secret\"]\n",
    "    \n",
    "    return client_id, client_secret\n",
    "\n",
    "\n",
    "def naver_search_api(kind, keyword):\n",
    "    titles, summaries, links = [], [], []\n",
    "    \n",
    "    client_id, client_secret = naver_api_key()\n",
    "    \n",
    "    search = urllib.parse.quote(keyword)\n",
    "    \n",
    "    for i in [1, 100]:\n",
    "        url = f\"https://openapi.naver.com/v1/search/{kind}?query={search}&start={i}&display=100\"\n",
    "        request = urllib.request.Request(url)\n",
    "        request.add_header(\"X-Naver-Client-Id\", client_id)\n",
    "        request.add_header(\"X-Naver-Client-Secret\", client_secret)\n",
    "        response = urllib.request.urlopen(request)\n",
    "        rescode = response.getcode()\n",
    "        \n",
    "        if rescode == 200:\n",
    "            content = json.loads(response.read().decode(\"utf-8\"))\n",
    "            for item in content[\"items\"]:\n",
    "                titles.append(item[\"title\"])\n",
    "                summaries.append(item[\"description\"])\n",
    "                links.append(item[\"link\"])\n",
    "        else:\n",
    "            print(\"Error Code:\" + rescode)\n",
    "    \n",
    "    print(\"=\"*10, kind, \"=\"*10)\n",
    "    print(\"titles: \", len(titles))\n",
    "    print(\"links: \", len(links))\n",
    "    print(\"summaries:\", len(summaries))\n",
    "    \n",
    "    df = pd.DataFrame({\"title\": titles, \"link\": links, \"summary\": summaries})\n",
    "    df = df.drop_duplicates(keep=\"first\", ignore_index=True)\n",
    "    print(\"중복 제거 후 행 개수: \", len(df))\n",
    "    \n",
    "    now = datetime.datetime.now()\n",
    "    df.to_csv(\"./data/temp/링크 {}_{}_{}.csv\".format(kind, keyword, now.strftime(\"%Y년%m월%d일_%H시%M분%S초\")), \n",
    "              encoding=\"utf-8-sig\", index=False)"
   ]
  },
  {
   "cell_type": "code",
   "execution_count": 22,
   "id": "aab4816a",
   "metadata": {
    "ExecuteTime": {
     "end_time": "2023-01-30T11:12:45.624837Z",
     "start_time": "2023-01-30T11:12:44.079652Z"
    }
   },
   "outputs": [
    {
     "name": "stdout",
     "output_type": "stream",
     "text": [
      "========== blog ==========\n",
      "titles:  200\n",
      "links:  200\n",
      "summaries: 200\n",
      "중복 제거 후 행 개수:  199\n",
      "========== cafearticle ==========\n",
      "titles:  200\n",
      "links:  200\n",
      "summaries: 200\n",
      "중복 제거 후 행 개수:  199\n",
      "========== news ==========\n",
      "titles:  200\n",
      "links:  200\n",
      "summaries: 200\n",
      "중복 제거 후 행 개수:  199\n"
     ]
    }
   ],
   "source": [
    "kind_list = [\"blog\", \"cafearticle\", \"news\"]\n",
    "keyword = \"킥보드 주차\"\n",
    "\n",
    "for kind in kind_list:\n",
    "    naver_search_api(kind, keyword)"
   ]
  },
  {
   "cell_type": "markdown",
   "id": "81836545",
   "metadata": {},
   "source": [
    "# 링크별 본문 추출"
   ]
  },
  {
   "cell_type": "code",
   "execution_count": 23,
   "id": "5a613b4e",
   "metadata": {
    "ExecuteTime": {
     "end_time": "2023-01-30T11:14:08.823931Z",
     "start_time": "2023-01-30T11:14:08.606543Z"
    }
   },
   "outputs": [],
   "source": [
    "import pandas as pd\n",
    "from bs4 import BeautifulSoup\n",
    "import requests\n",
    "from tqdm import tqdm\n",
    "import re\n"
   ]
  },
  {
   "cell_type": "code",
   "execution_count": 25,
   "id": "7071c2ed",
   "metadata": {
    "ExecuteTime": {
     "end_time": "2023-01-30T11:14:27.995625Z",
     "start_time": "2023-01-30T11:14:27.969405Z"
    }
   },
   "outputs": [
    {
     "data": {
      "text/plain": [
       "0          https://blog.naver.com/cys0523/222680596165\n",
       "1      https://blog.naver.com/dnjstpdms24/222347780173\n",
       "2        https://blog.naver.com/leehayaon/222358385024\n",
       "3        https://blog.naver.com/tech-plus/222680723022\n",
       "4       https://blog.naver.com/arini00101/222851266281\n",
       "                            ...                       \n",
       "194       https://blog.naver.com/gbom6600/222965903493\n",
       "195        https://blog.naver.com/jch4512/222589117443\n",
       "196       https://blog.naver.com/kkalok00/222950839631\n",
       "197        https://blog.naver.com/gonygo3/222680473126\n",
       "198      https://blog.naver.com/mufox0425/222763699475\n",
       "Name: link, Length: 199, dtype: object"
      ]
     },
     "execution_count": 25,
     "metadata": {},
     "output_type": "execute_result"
    }
   ],
   "source": [
    "pd.read_csv(\"./data/temp/링크 blog_킥보드 주차_2023년01월30일_20시12분44초.csv\")[\"link\"]"
   ]
  },
  {
   "cell_type": "code",
   "execution_count": 39,
   "id": "21b7ab8d",
   "metadata": {
    "ExecuteTime": {
     "end_time": "2023-01-30T11:25:42.923450Z",
     "start_time": "2023-01-30T11:25:42.824147Z"
    },
    "scrolled": false
   },
   "outputs": [
    {
     "data": {
      "text/plain": [
       "\n",
       "<!DOCTYPE html PUBLIC \"-//W3C//DTD XHTML 1.0 Transitional//EN\" \"http://www.w3.org/TR/xhtml1/DTD/xhtml1-transitional.dtd\">\n",
       "\n",
       "<html lang=\"ko\">\n",
       "<head>\n",
       "<meta content=\"no-cache\" http-equiv=\"Pragma\"/>\n",
       "<meta content=\"-1\" http-equiv=\"Expires\"/>\n",
       "<meta content=\"noindex,follow\" name=\"robots\"/>\n",
       "<meta content=\"always\" name=\"referrer\"/>\n",
       "<meta content=\"text/html;charset=utf-8\" http-equiv=\"content-type\"/>\n",
       "<meta content=\"IE=edge,chrome=1\" http-equiv=\"X-UA-Compatible\"/>\n",
       "<link href=\"/favicon.ico?3\" rel=\"shortcut icon\" type=\"image/x-icon\"/>\n",
       "<link href=\"https://rss.blog.naver.com/cys0523.xml\" rel=\"alternate\" title=\"RSS feed for cys0523 Blog\" type=\"application/rss+xml\"/>\n",
       "<link href=\"https://blog.naver.com/NBlogWlwLayout.naver?blogId=cys0523\" rel=\"wlwmanifest\" type=\"application/wlwmanifest+xml\"/>\n",
       "<title>경제적 자유를 꿈꾸는 짠테크맘 이야기 : 네이버 블로그</title>\n",
       "</head>\n",
       "<script charset=\"UTF-8\" src=\"https://ssl.pstatic.net/t.static.blog/mylog/versioning/Frameset-347491577_https.js\" type=\"text/javascript\"></script>\n",
       "<script charset=\"UTF-8\" type=\"text/javascript\">\n",
       "var photoContent=\"\";\n",
       "var postContent=\"\";\n",
       "\n",
       "var videoId \t  = \"\";\n",
       "var thumbnail \t  = \"\";\n",
       "var inKey \t\t  = \"\";\n",
       "var movieFileSize = \"\";\n",
       "var playTime \t  = \"\";\n",
       "var screenSize \t  = \"\";\n",
       "\n",
       "var blogId = 'cys0523';\n",
       "var blogURL = 'https://blog.naver.com';\n",
       "var eventCnt = '';\n",
       "\n",
       "var g_ShareObject = {};\n",
       "g_ShareObject.referer = \"\";\n",
       "\n",
       "\n",
       "jsMVC.setController(\"framesetTitleController\", FramesetTitleController);\n",
       "jsMVC.setController(\"framesetUrlController\", FramesetUrlController);\n",
       "jsMVC.setController(\"framesetMusicController\", FramesetMusicController);\n",
       "var oFramesetTitleController = jsMVC.getController(\"framesetTitleController\");\n",
       "var oFramesetUrlController = jsMVC.getController(\"framesetUrlController\");\n",
       "var oFramesetMusicController = jsMVC.getController(\"framesetMusicController\");\n",
       "var sTitle = document.title;\n",
       "\n",
       "var topFrameAlert = function(message){\n",
       "\talert(message);\n",
       "};\n",
       "\n",
       "var topFrameConfirm = function(message){\n",
       "\tif(confirm(message)){\n",
       "\t\treturn true;\n",
       "\t} else {\n",
       "\t\treturn false;\n",
       "\t}\n",
       "};\n",
       "</script>\n",
       "<style type=\"text/css\">\n",
       "    html{width:100%;height:100%;}\n",
       "    body{width:100%;height:100%;margin:0;padding:0;font-size:0;}\n",
       "    #mainFrame{width:100%;height:100%;margin:0;padding:0;border:0;}\n",
       "    #hiddenFrame{width:0;height:0;margin:0;padding:0;border:0;}\n",
       "</style>\n",
       "<body>\n",
       "<iframe allowfullscreen=\"\" id=\"mainFrame\" name=\"mainFrame\" onload=\"oFramesetTitleController.start(self.frames['mainFrame'], self, sTitle);oFramesetTitleController.onLoadFrame();oFramesetUrlController.start(self.frames['mainFrame']);oFramesetUrlController.onLoadFrame()\" scrolling=\"auto\" src=\"/PostView.naver?blogId=cys0523&amp;logNo=222680596165&amp;redirect=Dlog&amp;widgetTypeCall=true&amp;directAccess=false\"></iframe>\n",
       "</body>\n",
       "</html>"
      ]
     },
     "execution_count": 39,
     "metadata": {},
     "output_type": "execute_result"
    }
   ],
   "source": [
    "url = \"https://blog.naver.com/cys0523/222680596165\"\n",
    "headers = {\"User-Agent\": \"Mozilla/5.0 (Windows NT 10.0; Win64; x64) Chrome/98.0.4758.102\"}\n",
    "\n",
    "\n",
    "raw_html = requests.get(url, headers=headers)\n",
    "html = BeautifulSoup(raw_html.text, \"html.parser\")\n",
    "# html.find(\"div\", \"se-main-container\")\n",
    "html"
   ]
  },
  {
   "cell_type": "code",
   "execution_count": null,
   "id": "7bcd5c8a",
   "metadata": {},
   "outputs": [],
   "source": []
  }
 ],
 "metadata": {
  "kernelspec": {
   "display_name": "Python 3 (ipykernel)",
   "language": "python",
   "name": "python3"
  },
  "language_info": {
   "codemirror_mode": {
    "name": "ipython",
    "version": 3
   },
   "file_extension": ".py",
   "mimetype": "text/x-python",
   "name": "python",
   "nbconvert_exporter": "python",
   "pygments_lexer": "ipython3",
   "version": "3.9.15"
  },
  "toc": {
   "base_numbering": 1,
   "nav_menu": {},
   "number_sections": true,
   "sideBar": true,
   "skip_h1_title": false,
   "title_cell": "Table of Contents",
   "title_sidebar": "Contents",
   "toc_cell": false,
   "toc_position": {},
   "toc_section_display": true,
   "toc_window_display": false
  },
  "varInspector": {
   "cols": {
    "lenName": 16,
    "lenType": 16,
    "lenVar": 40
   },
   "kernels_config": {
    "python": {
     "delete_cmd_postfix": "",
     "delete_cmd_prefix": "del ",
     "library": "var_list.py",
     "varRefreshCmd": "print(var_dic_list())"
    },
    "r": {
     "delete_cmd_postfix": ") ",
     "delete_cmd_prefix": "rm(",
     "library": "var_list.r",
     "varRefreshCmd": "cat(var_dic_list()) "
    }
   },
   "types_to_exclude": [
    "module",
    "function",
    "builtin_function_or_method",
    "instance",
    "_Feature"
   ],
   "window_display": false
  }
 },
 "nbformat": 4,
 "nbformat_minor": 5
}
