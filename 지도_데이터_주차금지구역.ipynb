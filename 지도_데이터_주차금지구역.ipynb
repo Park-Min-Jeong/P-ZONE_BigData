{
 "cells": [
  {
   "cell_type": "markdown",
   "id": "ac167fb6",
   "metadata": {},
   "source": [
    "# Basic"
   ]
  },
  {
   "cell_type": "code",
   "execution_count": 74,
   "id": "6e47d5f3",
   "metadata": {
    "ExecuteTime": {
     "end_time": "2023-01-31T01:52:27.213083Z",
     "start_time": "2023-01-31T01:52:27.194134Z"
    }
   },
   "outputs": [],
   "source": [
    "import pandas as pd\n",
    "import time\n",
    "from tqdm import tqdm\n",
    "import requests\n",
    "import json\n",
    "\n",
    "raw_path = \"./data/raw/\"\n",
    "temp_path = \"./data/temp/\"\n",
    "data_path = \"./data/\""
   ]
  },
  {
   "cell_type": "code",
   "execution_count": 20,
   "id": "52af9e72",
   "metadata": {
    "ExecuteTime": {
     "end_time": "2023-01-30T11:47:27.032739Z",
     "start_time": "2023-01-30T11:47:27.019710Z"
    }
   },
   "outputs": [],
   "source": [
    "def reduce_df(df):\n",
    "    df = df[(df[\"Latitude\"]>37.454) & (df[\"Latitude\"]<37.536) & (df[\"Longitude\"]>127.018) & (df[\"Longitude\"]<127.1266)]\n",
    "    df = df.reset_index(drop=True)\n",
    "    return df\n",
    "\n",
    "\n",
    "def whether_gangnam(latitude, longitude):    \n",
    "    url = \"https://apis.openapi.sk.com/tmap/geo/reversegeocoding?version=1\"\n",
    "\n",
    "    payload = {\n",
    "        \"appKey\": json.load(open(\"./data/secrets.json\", \"r\"))[\"tmap\"][\"appkey\"],\n",
    "        \"lon\": longitude,\n",
    "        \"lat\": latitude,\n",
    "    }\n",
    "\n",
    "    res = requests.get(url, params=payload)\n",
    "\n",
    "    try:\n",
    "        gu = json.loads(res.text)[\"addressInfo\"][\"gu_gun\"]\n",
    "    except:\n",
    "        return \"ERROR\"\n",
    "\n",
    "    if gu == \"강남구\":\n",
    "        return True\n",
    "    else:\n",
    "        return False"
   ]
  },
  {
   "cell_type": "markdown",
   "id": "f103702f",
   "metadata": {},
   "source": [
    "# 버스정류장"
   ]
  },
  {
   "cell_type": "code",
   "execution_count": 21,
   "id": "dc33e9f6",
   "metadata": {
    "ExecuteTime": {
     "end_time": "2023-01-30T11:47:32.873169Z",
     "start_time": "2023-01-30T11:47:31.223132Z"
    }
   },
   "outputs": [
    {
     "name": "stdout",
     "output_type": "stream",
     "text": [
      "1126\n"
     ]
    },
    {
     "data": {
      "text/html": [
       "<div>\n",
       "<style scoped>\n",
       "    .dataframe tbody tr th:only-of-type {\n",
       "        vertical-align: middle;\n",
       "    }\n",
       "\n",
       "    .dataframe tbody tr th {\n",
       "        vertical-align: top;\n",
       "    }\n",
       "\n",
       "    .dataframe thead th {\n",
       "        text-align: right;\n",
       "    }\n",
       "</style>\n",
       "<table border=\"1\" class=\"dataframe\">\n",
       "  <thead>\n",
       "    <tr style=\"text-align: right;\">\n",
       "      <th></th>\n",
       "      <th>Name</th>\n",
       "      <th>Latitude</th>\n",
       "      <th>Longitude</th>\n",
       "    </tr>\n",
       "  </thead>\n",
       "  <tbody>\n",
       "    <tr>\n",
       "      <th>0</th>\n",
       "      <td>성수동차고지</td>\n",
       "      <td>37.535793</td>\n",
       "      <td>127.055682</td>\n",
       "    </tr>\n",
       "    <tr>\n",
       "      <th>1</th>\n",
       "      <td>자양미소약국.자양골목시장</td>\n",
       "      <td>37.532750</td>\n",
       "      <td>127.077319</td>\n",
       "    </tr>\n",
       "    <tr>\n",
       "      <th>2</th>\n",
       "      <td>국민은행자양지점앞</td>\n",
       "      <td>37.531573</td>\n",
       "      <td>127.081413</td>\n",
       "    </tr>\n",
       "    <tr>\n",
       "      <th>3</th>\n",
       "      <td>자양아파트앞</td>\n",
       "      <td>37.532192</td>\n",
       "      <td>127.084608</td>\n",
       "    </tr>\n",
       "    <tr>\n",
       "      <th>4</th>\n",
       "      <td>자양동잠실대교북단</td>\n",
       "      <td>37.532955</td>\n",
       "      <td>127.084806</td>\n",
       "    </tr>\n",
       "  </tbody>\n",
       "</table>\n",
       "</div>"
      ],
      "text/plain": [
       "            Name   Latitude   Longitude\n",
       "0         성수동차고지  37.535793  127.055682\n",
       "1  자양미소약국.자양골목시장  37.532750  127.077319\n",
       "2      국민은행자양지점앞  37.531573  127.081413\n",
       "3         자양아파트앞  37.532192  127.084608\n",
       "4      자양동잠실대교북단  37.532955  127.084806"
      ]
     },
     "execution_count": 21,
     "metadata": {},
     "output_type": "execute_result"
    }
   ],
   "source": [
    "bus = pd.read_excel(raw_path + \"서울시 버스정류소 좌표데이터(2022.11.30).xlsx\")\n",
    "bus = bus[[\"정류소명\", \"Y좌표\", \"X좌표\"]]\n",
    "bus = bus.rename({\"정류소명\": \"Name\", \"Y좌표\": \"Latitude\", \"X좌표\": \"Longitude\"}, axis=1)\n",
    "bus = reduce_df(bus)\n",
    "print(len(bus))\n",
    "bus.head()"
   ]
  },
  {
   "cell_type": "code",
   "execution_count": 22,
   "id": "bff98eb2",
   "metadata": {
    "ExecuteTime": {
     "end_time": "2023-01-30T11:51:00.794498Z",
     "start_time": "2023-01-30T11:47:45.497705Z"
    }
   },
   "outputs": [
    {
     "name": "stderr",
     "output_type": "stream",
     "text": [
      "100%|██████████████████████████████████████████████████████████████████████████████| 1126/1126 [03:15<00:00,  5.77it/s]\n"
     ]
    }
   ],
   "source": [
    "for i in tqdm(range(len(bus))):\n",
    "    bus.loc[i, \"gangnam\"] = whether_gangnam(bus.loc[i, \"Latitude\"], bus.loc[i, \"Longitude\"])"
   ]
  },
  {
   "cell_type": "code",
   "execution_count": 23,
   "id": "7655323a",
   "metadata": {
    "ExecuteTime": {
     "end_time": "2023-01-30T11:51:03.838703Z",
     "start_time": "2023-01-30T11:51:03.808997Z"
    }
   },
   "outputs": [
    {
     "name": "stdout",
     "output_type": "stream",
     "text": [
      "551\n",
      "<class 'pandas.core.frame.DataFrame'>\n",
      "RangeIndex: 551 entries, 0 to 550\n",
      "Data columns (total 4 columns):\n",
      " #   Column     Non-Null Count  Dtype  \n",
      "---  ------     --------------  -----  \n",
      " 0   index      551 non-null    int64  \n",
      " 1   Name       551 non-null    object \n",
      " 2   Latitude   551 non-null    float64\n",
      " 3   Longitude  551 non-null    float64\n",
      "dtypes: float64(2), int64(1), object(1)\n",
      "memory usage: 17.3+ KB\n",
      "None\n"
     ]
    },
    {
     "data": {
      "text/html": [
       "<div>\n",
       "<style scoped>\n",
       "    .dataframe tbody tr th:only-of-type {\n",
       "        vertical-align: middle;\n",
       "    }\n",
       "\n",
       "    .dataframe tbody tr th {\n",
       "        vertical-align: top;\n",
       "    }\n",
       "\n",
       "    .dataframe thead th {\n",
       "        text-align: right;\n",
       "    }\n",
       "</style>\n",
       "<table border=\"1\" class=\"dataframe\">\n",
       "  <thead>\n",
       "    <tr style=\"text-align: right;\">\n",
       "      <th></th>\n",
       "      <th>index</th>\n",
       "      <th>Name</th>\n",
       "      <th>Latitude</th>\n",
       "      <th>Longitude</th>\n",
       "    </tr>\n",
       "  </thead>\n",
       "  <tbody>\n",
       "    <tr>\n",
       "      <th>0</th>\n",
       "      <td>0</td>\n",
       "      <td>뱅뱅사거리</td>\n",
       "      <td>37.486653</td>\n",
       "      <td>127.033097</td>\n",
       "    </tr>\n",
       "    <tr>\n",
       "      <th>1</th>\n",
       "      <td>1</td>\n",
       "      <td>래미안아파트.파이낸셜뉴스</td>\n",
       "      <td>37.491087</td>\n",
       "      <td>127.030987</td>\n",
       "    </tr>\n",
       "    <tr>\n",
       "      <th>2</th>\n",
       "      <td>2</td>\n",
       "      <td>신분당선강남역</td>\n",
       "      <td>37.494993</td>\n",
       "      <td>127.029112</td>\n",
       "    </tr>\n",
       "    <tr>\n",
       "      <th>3</th>\n",
       "      <td>3</td>\n",
       "      <td>지하철2호선강남역</td>\n",
       "      <td>37.500785</td>\n",
       "      <td>127.026370</td>\n",
       "    </tr>\n",
       "    <tr>\n",
       "      <th>4</th>\n",
       "      <td>4</td>\n",
       "      <td>논현역</td>\n",
       "      <td>37.506367</td>\n",
       "      <td>127.023728</td>\n",
       "    </tr>\n",
       "  </tbody>\n",
       "</table>\n",
       "</div>"
      ],
      "text/plain": [
       "   index           Name   Latitude   Longitude\n",
       "0      0          뱅뱅사거리  37.486653  127.033097\n",
       "1      1  래미안아파트.파이낸셜뉴스  37.491087  127.030987\n",
       "2      2        신분당선강남역  37.494993  127.029112\n",
       "3      3      지하철2호선강남역  37.500785  127.026370\n",
       "4      4            논현역  37.506367  127.023728"
      ]
     },
     "execution_count": 23,
     "metadata": {},
     "output_type": "execute_result"
    }
   ],
   "source": [
    "bus = bus[bus[\"gangnam\"]==True]\n",
    "bus = bus.drop([\"gangnam\"], axis=1).reset_index(drop=True).reset_index()\n",
    "\n",
    "print(len(bus))\n",
    "print(bus.info())\n",
    "bus.head()"
   ]
  },
  {
   "cell_type": "code",
   "execution_count": 26,
   "id": "a159beb7",
   "metadata": {
    "ExecuteTime": {
     "end_time": "2023-01-30T11:51:58.663017Z",
     "start_time": "2023-01-30T11:51:58.647757Z"
    }
   },
   "outputs": [],
   "source": [
    "bus.to_csv(temp_path + \"bus.csv\", index=False, encoding=\"utf-8\")"
   ]
  },
  {
   "cell_type": "markdown",
   "id": "807611ae",
   "metadata": {},
   "source": [
    "# 택시승강장"
   ]
  },
  {
   "cell_type": "code",
   "execution_count": 27,
   "id": "c3796e28",
   "metadata": {
    "ExecuteTime": {
     "end_time": "2023-01-30T11:52:52.768109Z",
     "start_time": "2023-01-30T11:52:52.725166Z"
    }
   },
   "outputs": [
    {
     "name": "stdout",
     "output_type": "stream",
     "text": [
      "14\n",
      "<class 'pandas.core.frame.DataFrame'>\n",
      "RangeIndex: 14 entries, 0 to 13\n",
      "Data columns (total 4 columns):\n",
      " #   Column     Non-Null Count  Dtype  \n",
      "---  ------     --------------  -----  \n",
      " 0   index      14 non-null     int64  \n",
      " 1   Name       14 non-null     object \n",
      " 2   Latitude   14 non-null     float64\n",
      " 3   Longitude  14 non-null     float64\n",
      "dtypes: float64(2), int64(1), object(1)\n",
      "memory usage: 576.0+ bytes\n",
      "None\n"
     ]
    },
    {
     "name": "stderr",
     "output_type": "stream",
     "text": [
      "C:\\Users\\ParkMinjeong\\AppData\\Local\\Temp\\ipykernel_12528\\3940924088.py:4: FutureWarning: In a future version, `df.iloc[:, i] = newvals` will attempt to set the values inplace instead of always setting a new array. To retain the old behavior, use either `df[df.columns[i]] = newvals` or, if columns are non-unique, `df.isetitem(i, newvals)`\n",
      "  taxi.loc[:, \"Longitude\"] = taxi[\"Longitude\"].apply(lambda x: float(x.replace(\"/\", \".\")))\n"
     ]
    },
    {
     "data": {
      "text/html": [
       "<div>\n",
       "<style scoped>\n",
       "    .dataframe tbody tr th:only-of-type {\n",
       "        vertical-align: middle;\n",
       "    }\n",
       "\n",
       "    .dataframe tbody tr th {\n",
       "        vertical-align: top;\n",
       "    }\n",
       "\n",
       "    .dataframe thead th {\n",
       "        text-align: right;\n",
       "    }\n",
       "</style>\n",
       "<table border=\"1\" class=\"dataframe\">\n",
       "  <thead>\n",
       "    <tr style=\"text-align: right;\">\n",
       "      <th></th>\n",
       "      <th>index</th>\n",
       "      <th>Name</th>\n",
       "      <th>Latitude</th>\n",
       "      <th>Longitude</th>\n",
       "    </tr>\n",
       "  </thead>\n",
       "  <tbody>\n",
       "    <tr>\n",
       "      <th>0</th>\n",
       "      <td>0</td>\n",
       "      <td>어반테일러 앞</td>\n",
       "      <td>37.508280</td>\n",
       "      <td>127.022290</td>\n",
       "    </tr>\n",
       "    <tr>\n",
       "      <th>1</th>\n",
       "      <td>1</td>\n",
       "      <td>가로수길 영동빌딩 (올리브영 가로수길 중앙점 앞)</td>\n",
       "      <td>37.518136</td>\n",
       "      <td>127.022959</td>\n",
       "    </tr>\n",
       "    <tr>\n",
       "      <th>2</th>\n",
       "      <td>2</td>\n",
       "      <td>임페리얼팰리스호텔 앞</td>\n",
       "      <td>37.513700</td>\n",
       "      <td>127.035520</td>\n",
       "    </tr>\n",
       "    <tr>\n",
       "      <th>3</th>\n",
       "      <td>3</td>\n",
       "      <td>한국건설기술인협회별관 좌측(상아아파트 건너)</td>\n",
       "      <td>37.516880</td>\n",
       "      <td>127.051360</td>\n",
       "    </tr>\n",
       "    <tr>\n",
       "      <th>4</th>\n",
       "      <td>4</td>\n",
       "      <td>삼원가든 앞</td>\n",
       "      <td>37.525000</td>\n",
       "      <td>127.033110</td>\n",
       "    </tr>\n",
       "  </tbody>\n",
       "</table>\n",
       "</div>"
      ],
      "text/plain": [
       "   index                         Name   Latitude   Longitude\n",
       "0      0                      어반테일러 앞  37.508280  127.022290\n",
       "1      1  가로수길 영동빌딩 (올리브영 가로수길 중앙점 앞)  37.518136  127.022959\n",
       "2      2                  임페리얼팰리스호텔 앞  37.513700  127.035520\n",
       "3      3     한국건설기술인협회별관 좌측(상아아파트 건너)  37.516880  127.051360\n",
       "4      4                       삼원가든 앞  37.525000  127.033110"
      ]
     },
     "execution_count": 27,
     "metadata": {},
     "output_type": "execute_result"
    }
   ],
   "source": [
    "taxi = pd.read_csv(raw_path + \"서울특별시_택시승차대 현황_20210731.csv\", encoding=\"cp949\")\n",
    "taxi = taxi[(taxi[\"전원투입\"]==\"OK\") & (taxi[\"행정구\"]==\"강남구\")][[\"위치명\", \"좌표(Poi_Y)\", \"좌표(Poi_X)\"]]\n",
    "taxi = taxi.rename({\"위치명\": \"Name\", \"좌표(Poi_Y)\": \"Latitude\", \"좌표(Poi_X)\": \"Longitude\"}, axis=1).reset_index(drop=True).reset_index()\n",
    "taxi.loc[:, \"Longitude\"] = taxi[\"Longitude\"].apply(lambda x: float(x.replace(\"/\", \".\")))\n",
    "\n",
    "print(len(taxi))\n",
    "print(taxi.info())\n",
    "taxi.head()"
   ]
  },
  {
   "cell_type": "code",
   "execution_count": 28,
   "id": "0f9a066c",
   "metadata": {
    "ExecuteTime": {
     "end_time": "2023-01-30T11:52:57.460034Z",
     "start_time": "2023-01-30T11:52:57.448066Z"
    }
   },
   "outputs": [],
   "source": [
    "taxi.to_csv(temp_path + \"taxi.csv\", index=False, encoding=\"utf-8\")"
   ]
  },
  {
   "cell_type": "markdown",
   "id": "7e699c86",
   "metadata": {},
   "source": [
    "# subway"
   ]
  },
  {
   "cell_type": "code",
   "execution_count": 29,
   "id": "0e663893",
   "metadata": {
    "ExecuteTime": {
     "end_time": "2023-01-30T11:53:28.746017Z",
     "start_time": "2023-01-30T11:53:28.713104Z"
    }
   },
   "outputs": [
    {
     "name": "stdout",
     "output_type": "stream",
     "text": [
      "276\n",
      "<class 'pandas.core.frame.DataFrame'>\n",
      "RangeIndex: 276 entries, 0 to 275\n",
      "Data columns (total 3 columns):\n",
      " #   Column     Non-Null Count  Dtype  \n",
      "---  ------     --------------  -----  \n",
      " 0   Name       276 non-null    object \n",
      " 1   Latitude   276 non-null    float64\n",
      " 2   Longitude  276 non-null    float64\n",
      "dtypes: float64(2), object(1)\n",
      "memory usage: 6.6+ KB\n",
      "None\n"
     ]
    },
    {
     "data": {
      "text/html": [
       "<div>\n",
       "<style scoped>\n",
       "    .dataframe tbody tr th:only-of-type {\n",
       "        vertical-align: middle;\n",
       "    }\n",
       "\n",
       "    .dataframe tbody tr th {\n",
       "        vertical-align: top;\n",
       "    }\n",
       "\n",
       "    .dataframe thead th {\n",
       "        text-align: right;\n",
       "    }\n",
       "</style>\n",
       "<table border=\"1\" class=\"dataframe\">\n",
       "  <thead>\n",
       "    <tr style=\"text-align: right;\">\n",
       "      <th></th>\n",
       "      <th>Name</th>\n",
       "      <th>Latitude</th>\n",
       "      <th>Longitude</th>\n",
       "    </tr>\n",
       "  </thead>\n",
       "  <tbody>\n",
       "    <tr>\n",
       "      <th>0</th>\n",
       "      <td>1호선 서울역</td>\n",
       "      <td>37.553150</td>\n",
       "      <td>126.972533</td>\n",
       "    </tr>\n",
       "    <tr>\n",
       "      <th>1</th>\n",
       "      <td>1호선 시청역</td>\n",
       "      <td>37.563590</td>\n",
       "      <td>126.975407</td>\n",
       "    </tr>\n",
       "    <tr>\n",
       "      <th>2</th>\n",
       "      <td>1호선 종각역</td>\n",
       "      <td>37.570203</td>\n",
       "      <td>126.983116</td>\n",
       "    </tr>\n",
       "    <tr>\n",
       "      <th>3</th>\n",
       "      <td>1호선 종로3가역</td>\n",
       "      <td>37.570429</td>\n",
       "      <td>126.992095</td>\n",
       "    </tr>\n",
       "    <tr>\n",
       "      <th>4</th>\n",
       "      <td>1호선 종로5가역</td>\n",
       "      <td>37.570971</td>\n",
       "      <td>127.001900</td>\n",
       "    </tr>\n",
       "  </tbody>\n",
       "</table>\n",
       "</div>"
      ],
      "text/plain": [
       "        Name   Latitude   Longitude\n",
       "0    1호선 서울역  37.553150  126.972533\n",
       "1    1호선 시청역  37.563590  126.975407\n",
       "2    1호선 종각역  37.570203  126.983116\n",
       "3  1호선 종로3가역  37.570429  126.992095\n",
       "4  1호선 종로5가역  37.570971  127.001900"
      ]
     },
     "execution_count": 29,
     "metadata": {},
     "output_type": "execute_result"
    }
   ],
   "source": [
    "# 1 ~ 8호선\n",
    "subway_1to8 = pd.read_csv(raw_path + \"서울교통공사_1_8호선 역사 좌표(위경도) 정보_20211231.csv\", encoding=\"cp949\")\n",
    "subway_1to8[\"Name\"] = subway_1to8.apply(lambda x: f\"{x['호선']}호선 {x['역명']}역\", axis=1)\n",
    "subway_1to8 = subway_1to8[[\"Name\", \"위도\", \"경도\"]]\n",
    "subway_1to8 = subway_1to8.rename({\"위도\": \"Latitude\", \"경도\": \"Longitude\"}, axis=1)\n",
    "\n",
    "print(len(subway_1to8))\n",
    "print(subway_1to8.info())\n",
    "subway_1to8.head()"
   ]
  },
  {
   "cell_type": "code",
   "execution_count": 30,
   "id": "0090c7e3",
   "metadata": {
    "ExecuteTime": {
     "end_time": "2023-01-30T11:53:46.547241Z",
     "start_time": "2023-01-30T11:53:46.523292Z"
    }
   },
   "outputs": [
    {
     "name": "stdout",
     "output_type": "stream",
     "text": [
      "29\n",
      "<class 'pandas.core.frame.DataFrame'>\n",
      "Int64Index: 29 entries, 0 to 28\n",
      "Data columns (total 3 columns):\n",
      " #   Column     Non-Null Count  Dtype  \n",
      "---  ------     --------------  -----  \n",
      " 0   Name       29 non-null     object \n",
      " 1   Latitude   29 non-null     float64\n",
      " 2   Longitude  29 non-null     float64\n",
      "dtypes: float64(2), object(1)\n",
      "memory usage: 928.0+ bytes\n",
      "None\n"
     ]
    },
    {
     "data": {
      "text/html": [
       "<div>\n",
       "<style scoped>\n",
       "    .dataframe tbody tr th:only-of-type {\n",
       "        vertical-align: middle;\n",
       "    }\n",
       "\n",
       "    .dataframe tbody tr th {\n",
       "        vertical-align: top;\n",
       "    }\n",
       "\n",
       "    .dataframe thead th {\n",
       "        text-align: right;\n",
       "    }\n",
       "</style>\n",
       "<table border=\"1\" class=\"dataframe\">\n",
       "  <thead>\n",
       "    <tr style=\"text-align: right;\">\n",
       "      <th></th>\n",
       "      <th>Name</th>\n",
       "      <th>Latitude</th>\n",
       "      <th>Longitude</th>\n",
       "    </tr>\n",
       "  </thead>\n",
       "  <tbody>\n",
       "    <tr>\n",
       "      <th>0</th>\n",
       "      <td>9호선 개화역</td>\n",
       "      <td>37.578608</td>\n",
       "      <td>126.798153</td>\n",
       "    </tr>\n",
       "    <tr>\n",
       "      <th>1</th>\n",
       "      <td>9호선 김포공항역</td>\n",
       "      <td>37.562434</td>\n",
       "      <td>126.801058</td>\n",
       "    </tr>\n",
       "    <tr>\n",
       "      <th>2</th>\n",
       "      <td>9호선 공항시장역</td>\n",
       "      <td>37.563726</td>\n",
       "      <td>126.810678</td>\n",
       "    </tr>\n",
       "    <tr>\n",
       "      <th>3</th>\n",
       "      <td>9호선 신방화역</td>\n",
       "      <td>37.567532</td>\n",
       "      <td>126.816601</td>\n",
       "    </tr>\n",
       "    <tr>\n",
       "      <th>4</th>\n",
       "      <td>9호선 마곡나루역</td>\n",
       "      <td>37.567336</td>\n",
       "      <td>126.829497</td>\n",
       "    </tr>\n",
       "  </tbody>\n",
       "</table>\n",
       "</div>"
      ],
      "text/plain": [
       "        Name   Latitude   Longitude\n",
       "0    9호선 개화역  37.578608  126.798153\n",
       "1  9호선 김포공항역  37.562434  126.801058\n",
       "2  9호선 공항시장역  37.563726  126.810678\n",
       "3   9호선 신방화역  37.567532  126.816601\n",
       "4  9호선 마곡나루역  37.567336  126.829497"
      ]
     },
     "execution_count": 30,
     "metadata": {},
     "output_type": "execute_result"
    }
   ],
   "source": [
    "# 9호선\n",
    "subway_9 = pd.read_csv(path + \"국가철도공단_수도권9호선_역위치_20221117.csv\").dropna()\n",
    "subway_9[\"Name\"] = subway_9.apply(lambda x: f\"{x['선명']} {x['역명']}역\", axis=1)\n",
    "subway_9 = subway_9[[\"Name\", \"위도\", \"경도\"]]\n",
    "subway_9 = subway_9.rename({\"위도\": \"Latitude\", \"경도\": \"Longitude\"}, axis=1)\n",
    "\n",
    "print(len(subway_9))\n",
    "print(subway_9.info())\n",
    "subway_9.head()"
   ]
  },
  {
   "cell_type": "code",
   "execution_count": 32,
   "id": "b08f0086",
   "metadata": {
    "ExecuteTime": {
     "end_time": "2023-01-30T11:54:09.708882Z",
     "start_time": "2023-01-30T11:54:09.674973Z"
    }
   },
   "outputs": [
    {
     "name": "stdout",
     "output_type": "stream",
     "text": [
      "40\n",
      "<class 'pandas.core.frame.DataFrame'>\n",
      "RangeIndex: 40 entries, 0 to 39\n",
      "Data columns (total 3 columns):\n",
      " #   Column     Non-Null Count  Dtype  \n",
      "---  ------     --------------  -----  \n",
      " 0   Name       40 non-null     object \n",
      " 1   Latitude   40 non-null     float64\n",
      " 2   Longitude  40 non-null     float64\n",
      "dtypes: float64(2), object(1)\n",
      "memory usage: 1.1+ KB\n",
      "None\n"
     ]
    },
    {
     "data": {
      "text/html": [
       "<div>\n",
       "<style scoped>\n",
       "    .dataframe tbody tr th:only-of-type {\n",
       "        vertical-align: middle;\n",
       "    }\n",
       "\n",
       "    .dataframe tbody tr th {\n",
       "        vertical-align: top;\n",
       "    }\n",
       "\n",
       "    .dataframe thead th {\n",
       "        text-align: right;\n",
       "    }\n",
       "</style>\n",
       "<table border=\"1\" class=\"dataframe\">\n",
       "  <thead>\n",
       "    <tr style=\"text-align: right;\">\n",
       "      <th></th>\n",
       "      <th>Name</th>\n",
       "      <th>Latitude</th>\n",
       "      <th>Longitude</th>\n",
       "    </tr>\n",
       "  </thead>\n",
       "  <tbody>\n",
       "    <tr>\n",
       "      <th>0</th>\n",
       "      <td>2호선 강변역</td>\n",
       "      <td>37.535161</td>\n",
       "      <td>127.094684</td>\n",
       "    </tr>\n",
       "    <tr>\n",
       "      <th>1</th>\n",
       "      <td>2호선 잠실나루역</td>\n",
       "      <td>37.520688</td>\n",
       "      <td>127.103836</td>\n",
       "    </tr>\n",
       "    <tr>\n",
       "      <th>2</th>\n",
       "      <td>2호선 잠실역</td>\n",
       "      <td>37.513305</td>\n",
       "      <td>127.100129</td>\n",
       "    </tr>\n",
       "    <tr>\n",
       "      <th>3</th>\n",
       "      <td>2호선 잠실새내역</td>\n",
       "      <td>37.520731</td>\n",
       "      <td>127.103738</td>\n",
       "    </tr>\n",
       "    <tr>\n",
       "      <th>4</th>\n",
       "      <td>2호선 종합운동장역</td>\n",
       "      <td>37.511008</td>\n",
       "      <td>127.073641</td>\n",
       "    </tr>\n",
       "  </tbody>\n",
       "</table>\n",
       "</div>"
      ],
      "text/plain": [
       "         Name   Latitude   Longitude\n",
       "0     2호선 강변역  37.535161  127.094684\n",
       "1   2호선 잠실나루역  37.520688  127.103836\n",
       "2     2호선 잠실역  37.513305  127.100129\n",
       "3   2호선 잠실새내역  37.520731  127.103738\n",
       "4  2호선 종합운동장역  37.511008  127.073641"
      ]
     },
     "execution_count": 32,
     "metadata": {},
     "output_type": "execute_result"
    }
   ],
   "source": [
    "subway = pd.concat([subway_1to8, subway_9], ignore_index=True)\n",
    "subway = reduce_df(subway)\n",
    "print(len(subway))\n",
    "print(subway.info())\n",
    "subway.head()"
   ]
  },
  {
   "cell_type": "code",
   "execution_count": 33,
   "id": "22d71acf",
   "metadata": {
    "ExecuteTime": {
     "end_time": "2023-01-30T11:54:32.655700Z",
     "start_time": "2023-01-30T11:54:25.825101Z"
    }
   },
   "outputs": [
    {
     "name": "stderr",
     "output_type": "stream",
     "text": [
      "100%|██████████████████████████████████████████████████████████████████████████████████| 40/40 [00:06<00:00,  5.87it/s]\n"
     ]
    }
   ],
   "source": [
    "for i in tqdm(range(len(subway))):\n",
    "    subway.loc[i, \"gangnam\"] = whether_gangnam(subway.loc[i, \"Latitude\"], subway.loc[i, \"Longitude\"])"
   ]
  },
  {
   "cell_type": "code",
   "execution_count": 34,
   "id": "ddb59010",
   "metadata": {
    "ExecuteTime": {
     "end_time": "2023-01-30T11:54:33.789761Z",
     "start_time": "2023-01-30T11:54:33.770812Z"
    }
   },
   "outputs": [
    {
     "name": "stdout",
     "output_type": "stream",
     "text": [
      "22\n",
      "<class 'pandas.core.frame.DataFrame'>\n",
      "RangeIndex: 22 entries, 0 to 21\n",
      "Data columns (total 4 columns):\n",
      " #   Column     Non-Null Count  Dtype  \n",
      "---  ------     --------------  -----  \n",
      " 0   index      22 non-null     int64  \n",
      " 1   Name       22 non-null     object \n",
      " 2   Latitude   22 non-null     float64\n",
      " 3   Longitude  22 non-null     float64\n",
      "dtypes: float64(2), int64(1), object(1)\n",
      "memory usage: 832.0+ bytes\n",
      "None\n"
     ]
    },
    {
     "data": {
      "text/html": [
       "<div>\n",
       "<style scoped>\n",
       "    .dataframe tbody tr th:only-of-type {\n",
       "        vertical-align: middle;\n",
       "    }\n",
       "\n",
       "    .dataframe tbody tr th {\n",
       "        vertical-align: top;\n",
       "    }\n",
       "\n",
       "    .dataframe thead th {\n",
       "        text-align: right;\n",
       "    }\n",
       "</style>\n",
       "<table border=\"1\" class=\"dataframe\">\n",
       "  <thead>\n",
       "    <tr style=\"text-align: right;\">\n",
       "      <th></th>\n",
       "      <th>index</th>\n",
       "      <th>Name</th>\n",
       "      <th>Latitude</th>\n",
       "      <th>Longitude</th>\n",
       "    </tr>\n",
       "  </thead>\n",
       "  <tbody>\n",
       "    <tr>\n",
       "      <th>0</th>\n",
       "      <td>0</td>\n",
       "      <td>2호선 삼성역</td>\n",
       "      <td>37.508827</td>\n",
       "      <td>127.063203</td>\n",
       "    </tr>\n",
       "    <tr>\n",
       "      <th>1</th>\n",
       "      <td>1</td>\n",
       "      <td>2호선 선릉역</td>\n",
       "      <td>37.504257</td>\n",
       "      <td>127.048174</td>\n",
       "    </tr>\n",
       "    <tr>\n",
       "      <th>2</th>\n",
       "      <td>2</td>\n",
       "      <td>2호선 역삼역</td>\n",
       "      <td>37.500658</td>\n",
       "      <td>127.036430</td>\n",
       "    </tr>\n",
       "    <tr>\n",
       "      <th>3</th>\n",
       "      <td>3</td>\n",
       "      <td>3호선 압구정역</td>\n",
       "      <td>37.526169</td>\n",
       "      <td>127.028502</td>\n",
       "    </tr>\n",
       "    <tr>\n",
       "      <th>4</th>\n",
       "      <td>4</td>\n",
       "      <td>3호선 신사역</td>\n",
       "      <td>37.516438</td>\n",
       "      <td>127.020247</td>\n",
       "    </tr>\n",
       "  </tbody>\n",
       "</table>\n",
       "</div>"
      ],
      "text/plain": [
       "   index      Name   Latitude   Longitude\n",
       "0      0   2호선 삼성역  37.508827  127.063203\n",
       "1      1   2호선 선릉역  37.504257  127.048174\n",
       "2      2   2호선 역삼역  37.500658  127.036430\n",
       "3      3  3호선 압구정역  37.526169  127.028502\n",
       "4      4   3호선 신사역  37.516438  127.020247"
      ]
     },
     "execution_count": 34,
     "metadata": {},
     "output_type": "execute_result"
    }
   ],
   "source": [
    "subway = subway[subway[\"gangnam\"]==True]\n",
    "subway = subway.drop([\"gangnam\"], axis=1).reset_index(drop=True).reset_index()\n",
    "\n",
    "print(len(subway))\n",
    "print(subway.info())\n",
    "subway.head()"
   ]
  },
  {
   "cell_type": "code",
   "execution_count": 35,
   "id": "73691f7e",
   "metadata": {
    "ExecuteTime": {
     "end_time": "2023-01-30T11:54:48.563308Z",
     "start_time": "2023-01-30T11:54:48.549374Z"
    }
   },
   "outputs": [],
   "source": [
    "subway.to_csv(temp_path + \"subway.csv\", index=False, encoding=\"utf-8\")"
   ]
  },
  {
   "cell_type": "markdown",
   "id": "b42cefca",
   "metadata": {
    "ExecuteTime": {
     "end_time": "2023-01-30T11:56:35.363783Z",
     "start_time": "2023-01-30T11:56:35.353812Z"
    }
   },
   "source": [
    "# 소방용수"
   ]
  },
  {
   "cell_type": "code",
   "execution_count": 61,
   "id": "e5e4eedf",
   "metadata": {
    "ExecuteTime": {
     "end_time": "2023-01-30T12:21:11.083309Z",
     "start_time": "2023-01-30T12:21:10.654457Z"
    }
   },
   "outputs": [
    {
     "name": "stdout",
     "output_type": "stream",
     "text": [
      "966\n",
      "<class 'pandas.core.frame.DataFrame'>\n",
      "RangeIndex: 966 entries, 0 to 965\n",
      "Data columns (total 4 columns):\n",
      " #   Column     Non-Null Count  Dtype  \n",
      "---  ------     --------------  -----  \n",
      " 0   index      966 non-null    int64  \n",
      " 1   Name       679 non-null    object \n",
      " 2   Latitude   966 non-null    float64\n",
      " 3   Longitude  966 non-null    float64\n",
      "dtypes: float64(2), int64(1), object(1)\n",
      "memory usage: 30.3+ KB\n",
      "None\n"
     ]
    },
    {
     "data": {
      "text/html": [
       "<div>\n",
       "<style scoped>\n",
       "    .dataframe tbody tr th:only-of-type {\n",
       "        vertical-align: middle;\n",
       "    }\n",
       "\n",
       "    .dataframe tbody tr th {\n",
       "        vertical-align: top;\n",
       "    }\n",
       "\n",
       "    .dataframe thead th {\n",
       "        text-align: right;\n",
       "    }\n",
       "</style>\n",
       "<table border=\"1\" class=\"dataframe\">\n",
       "  <thead>\n",
       "    <tr style=\"text-align: right;\">\n",
       "      <th></th>\n",
       "      <th>index</th>\n",
       "      <th>Name</th>\n",
       "      <th>Latitude</th>\n",
       "      <th>Longitude</th>\n",
       "    </tr>\n",
       "  </thead>\n",
       "  <tbody>\n",
       "    <tr>\n",
       "      <th>0</th>\n",
       "      <td>0</td>\n",
       "      <td>서광아파트102동</td>\n",
       "      <td>37.517144</td>\n",
       "      <td>127.042529</td>\n",
       "    </tr>\n",
       "    <tr>\n",
       "      <th>1</th>\n",
       "      <td>1</td>\n",
       "      <td>NaN</td>\n",
       "      <td>37.499261</td>\n",
       "      <td>127.047582</td>\n",
       "    </tr>\n",
       "    <tr>\n",
       "      <th>2</th>\n",
       "      <td>2</td>\n",
       "      <td>서울비젼 사옥</td>\n",
       "      <td>37.511763</td>\n",
       "      <td>127.035584</td>\n",
       "    </tr>\n",
       "    <tr>\n",
       "      <th>3</th>\n",
       "      <td>3</td>\n",
       "      <td>미진프라자</td>\n",
       "      <td>37.497998</td>\n",
       "      <td>127.028693</td>\n",
       "    </tr>\n",
       "    <tr>\n",
       "      <th>4</th>\n",
       "      <td>4</td>\n",
       "      <td>대치MS빌딩</td>\n",
       "      <td>37.500777</td>\n",
       "      <td>127.052224</td>\n",
       "    </tr>\n",
       "  </tbody>\n",
       "</table>\n",
       "</div>"
      ],
      "text/plain": [
       "   index       Name   Latitude   Longitude\n",
       "0      0  서광아파트102동  37.517144  127.042529\n",
       "1      1        NaN  37.499261  127.047582\n",
       "2      2    서울비젼 사옥  37.511763  127.035584\n",
       "3      3      미진프라자  37.497998  127.028693\n",
       "4      4     대치MS빌딩  37.500777  127.052224"
      ]
     },
     "execution_count": 61,
     "metadata": {},
     "output_type": "execute_result"
    }
   ],
   "source": [
    "fire = pd.read_csv(raw_path + \"서울시 소방재난본부_소방용수시설_20220831.csv\", encoding=\"cp949\")\n",
    "fire = fire[(fire[\"시군구명\"]==\"강남구\") & (fire[\"시설유형코드\"]==1) & (fire[\"사용가능여부\"]==\"Y\")][[\"상세위치\", \"위도\", \"경도\"]]\n",
    "fire = fire.rename({\"상세위치\": \"Name\", \"위도\": \"Latitude\", \"경도\": \"Longitude\"}, axis=1).reset_index(drop=True).reset_index()\n",
    "\n",
    "print(len(fire))\n",
    "print(fire.info())\n",
    "fire.head()"
   ]
  },
  {
   "cell_type": "code",
   "execution_count": 62,
   "id": "7790f9d6",
   "metadata": {
    "ExecuteTime": {
     "end_time": "2023-01-30T12:21:14.851947Z",
     "start_time": "2023-01-30T12:21:14.827920Z"
    }
   },
   "outputs": [],
   "source": [
    "fire.to_csv(temp_path + \"fire.csv\", index=False, encoding=\"utf-8\")"
   ]
  },
  {
   "cell_type": "markdown",
   "id": "6cad8e4d",
   "metadata": {},
   "source": [
    "# 어린이 보호구역"
   ]
  },
  {
   "cell_type": "code",
   "execution_count": 66,
   "id": "b7e9b9c4",
   "metadata": {
    "ExecuteTime": {
     "end_time": "2023-01-30T12:23:34.471522Z",
     "start_time": "2023-01-30T12:23:34.429670Z"
    }
   },
   "outputs": [
    {
     "name": "stdout",
     "output_type": "stream",
     "text": [
      "32\n",
      "<class 'pandas.core.frame.DataFrame'>\n",
      "RangeIndex: 32 entries, 0 to 31\n",
      "Data columns (total 4 columns):\n",
      " #   Column     Non-Null Count  Dtype  \n",
      "---  ------     --------------  -----  \n",
      " 0   index      32 non-null     int64  \n",
      " 1   Name       32 non-null     object \n",
      " 2   Latitude   32 non-null     float64\n",
      " 3   Longitude  32 non-null     float64\n",
      "dtypes: float64(2), int64(1), object(1)\n",
      "memory usage: 1.1+ KB\n",
      "None\n"
     ]
    },
    {
     "data": {
      "text/html": [
       "<div>\n",
       "<style scoped>\n",
       "    .dataframe tbody tr th:only-of-type {\n",
       "        vertical-align: middle;\n",
       "    }\n",
       "\n",
       "    .dataframe tbody tr th {\n",
       "        vertical-align: top;\n",
       "    }\n",
       "\n",
       "    .dataframe thead th {\n",
       "        text-align: right;\n",
       "    }\n",
       "</style>\n",
       "<table border=\"1\" class=\"dataframe\">\n",
       "  <thead>\n",
       "    <tr style=\"text-align: right;\">\n",
       "      <th></th>\n",
       "      <th>index</th>\n",
       "      <th>Name</th>\n",
       "      <th>Latitude</th>\n",
       "      <th>Longitude</th>\n",
       "    </tr>\n",
       "  </thead>\n",
       "  <tbody>\n",
       "    <tr>\n",
       "      <th>0</th>\n",
       "      <td>0</td>\n",
       "      <td>성모어린이집</td>\n",
       "      <td>37.510980</td>\n",
       "      <td>127.026898</td>\n",
       "    </tr>\n",
       "    <tr>\n",
       "      <th>1</th>\n",
       "      <td>1</td>\n",
       "      <td>논현초등학교</td>\n",
       "      <td>37.508170</td>\n",
       "      <td>127.026032</td>\n",
       "    </tr>\n",
       "    <tr>\n",
       "      <th>2</th>\n",
       "      <td>2</td>\n",
       "      <td>세리유치원</td>\n",
       "      <td>37.520723</td>\n",
       "      <td>127.025976</td>\n",
       "    </tr>\n",
       "    <tr>\n",
       "      <th>3</th>\n",
       "      <td>3</td>\n",
       "      <td>신사어린이집</td>\n",
       "      <td>37.522080</td>\n",
       "      <td>127.040066</td>\n",
       "    </tr>\n",
       "    <tr>\n",
       "      <th>4</th>\n",
       "      <td>4</td>\n",
       "      <td>청담어린이집</td>\n",
       "      <td>37.522080</td>\n",
       "      <td>127.040023</td>\n",
       "    </tr>\n",
       "  </tbody>\n",
       "</table>\n",
       "</div>"
      ],
      "text/plain": [
       "   index    Name   Latitude   Longitude\n",
       "0      0  성모어린이집  37.510980  127.026898\n",
       "1      1  논현초등학교  37.508170  127.026032\n",
       "2      2   세리유치원  37.520723  127.025976\n",
       "3      3  신사어린이집  37.522080  127.040066\n",
       "4      4  청담어린이집  37.522080  127.040023"
      ]
     },
     "execution_count": 66,
     "metadata": {},
     "output_type": "execute_result"
    }
   ],
   "source": [
    "children = pd.read_csv(raw_path + \"어린이보호구역 위치도.csv\", encoding=\"cp949\")\n",
    "children = children[children[\"구\"]==\"강남구\"][[\"시설명\", \"y좌표\", \"x좌표\"]]\n",
    "children = children.rename({\"시설명\": \"Name\", \"y좌표\": \"Latitude\", \"x좌표\": \"Longitude\"}, axis=1).reset_index(drop=True).reset_index()\n",
    "\n",
    "print(len(children))\n",
    "print(children.info())\n",
    "children.head()"
   ]
  },
  {
   "cell_type": "code",
   "execution_count": 67,
   "id": "db077aff",
   "metadata": {
    "ExecuteTime": {
     "end_time": "2023-01-30T12:23:49.567065Z",
     "start_time": "2023-01-30T12:23:49.551080Z"
    }
   },
   "outputs": [],
   "source": [
    "children.to_csv(temp_path + \"children.csv\", index=False, encoding=\"utf-8\")"
   ]
  },
  {
   "cell_type": "markdown",
   "id": "e370be7f",
   "metadata": {},
   "source": [
    "# concat"
   ]
  },
  {
   "cell_type": "code",
   "execution_count": 68,
   "id": "772ffcc0",
   "metadata": {
    "ExecuteTime": {
     "end_time": "2023-01-30T12:23:51.728105Z",
     "start_time": "2023-01-30T12:23:51.724142Z"
    }
   },
   "outputs": [],
   "source": [
    "data_list = [\"bus\", \"taxi\", \"subway\", \"fire\", \"children\"]"
   ]
  },
  {
   "cell_type": "code",
   "execution_count": 72,
   "id": "ffeacda1",
   "metadata": {
    "ExecuteTime": {
     "end_time": "2023-01-30T12:25:02.401498Z",
     "start_time": "2023-01-30T12:25:02.355603Z"
    }
   },
   "outputs": [
    {
     "name": "stdout",
     "output_type": "stream",
     "text": [
      "1585\n",
      "<class 'pandas.core.frame.DataFrame'>\n",
      "RangeIndex: 1585 entries, 0 to 1584\n",
      "Data columns (total 5 columns):\n",
      " #   Column     Non-Null Count  Dtype  \n",
      "---  ------     --------------  -----  \n",
      " 0   index      1585 non-null   object \n",
      " 1   Name       1298 non-null   object \n",
      " 2   Latitude   1585 non-null   float64\n",
      " 3   Longitude  1585 non-null   float64\n",
      " 4   type       1585 non-null   object \n",
      "dtypes: float64(2), object(3)\n",
      "memory usage: 62.0+ KB\n",
      "None\n"
     ]
    },
    {
     "data": {
      "text/html": [
       "<div>\n",
       "<style scoped>\n",
       "    .dataframe tbody tr th:only-of-type {\n",
       "        vertical-align: middle;\n",
       "    }\n",
       "\n",
       "    .dataframe tbody tr th {\n",
       "        vertical-align: top;\n",
       "    }\n",
       "\n",
       "    .dataframe thead th {\n",
       "        text-align: right;\n",
       "    }\n",
       "</style>\n",
       "<table border=\"1\" class=\"dataframe\">\n",
       "  <thead>\n",
       "    <tr style=\"text-align: right;\">\n",
       "      <th></th>\n",
       "      <th>index</th>\n",
       "      <th>Name</th>\n",
       "      <th>Latitude</th>\n",
       "      <th>Longitude</th>\n",
       "      <th>type</th>\n",
       "    </tr>\n",
       "  </thead>\n",
       "  <tbody>\n",
       "    <tr>\n",
       "      <th>0</th>\n",
       "      <td>0</td>\n",
       "      <td>뱅뱅사거리</td>\n",
       "      <td>37.486653</td>\n",
       "      <td>127.033097</td>\n",
       "      <td>bus</td>\n",
       "    </tr>\n",
       "    <tr>\n",
       "      <th>1</th>\n",
       "      <td>1</td>\n",
       "      <td>래미안아파트.파이낸셜뉴스</td>\n",
       "      <td>37.491087</td>\n",
       "      <td>127.030987</td>\n",
       "      <td>bus</td>\n",
       "    </tr>\n",
       "    <tr>\n",
       "      <th>2</th>\n",
       "      <td>2</td>\n",
       "      <td>신분당선강남역</td>\n",
       "      <td>37.494993</td>\n",
       "      <td>127.029112</td>\n",
       "      <td>bus</td>\n",
       "    </tr>\n",
       "    <tr>\n",
       "      <th>3</th>\n",
       "      <td>3</td>\n",
       "      <td>지하철2호선강남역</td>\n",
       "      <td>37.500785</td>\n",
       "      <td>127.026370</td>\n",
       "      <td>bus</td>\n",
       "    </tr>\n",
       "    <tr>\n",
       "      <th>4</th>\n",
       "      <td>4</td>\n",
       "      <td>논현역</td>\n",
       "      <td>37.506367</td>\n",
       "      <td>127.023728</td>\n",
       "      <td>bus</td>\n",
       "    </tr>\n",
       "  </tbody>\n",
       "</table>\n",
       "</div>"
      ],
      "text/plain": [
       "  index           Name   Latitude   Longitude type\n",
       "0     0          뱅뱅사거리  37.486653  127.033097  bus\n",
       "1     1  래미안아파트.파이낸셜뉴스  37.491087  127.030987  bus\n",
       "2     2        신분당선강남역  37.494993  127.029112  bus\n",
       "3     3      지하철2호선강남역  37.500785  127.026370  bus\n",
       "4     4            논현역  37.506367  127.023728  bus"
      ]
     },
     "execution_count": 72,
     "metadata": {},
     "output_type": "execute_result"
    }
   ],
   "source": [
    "cautionzone = pd.DataFrame(columns=[\"index\", \"Name\", \"Latitude\", \"Longitude\", \"type\"])\n",
    "\n",
    "for data in data_list:\n",
    "    data_df = pd.read_csv(f\"{temp_path}{data}.csv\")\n",
    "    data_df[\"type\"] = data\n",
    "    cautionzone = pd.concat([cautionzone, data_df], ignore_index=True)\n",
    "\n",
    "print(len(cautionzone))\n",
    "print(cautionzone.info())\n",
    "cautionzone.head()"
   ]
  },
  {
   "cell_type": "code",
   "execution_count": 73,
   "id": "af0f5402",
   "metadata": {
    "ExecuteTime": {
     "end_time": "2023-01-30T12:25:05.140070Z",
     "start_time": "2023-01-30T12:25:05.117520Z"
    }
   },
   "outputs": [],
   "source": [
    "cautionzone.to_csv(data_path + \"cautionzone.csv\", index=False, encoding=\"utf-8\")"
   ]
  },
  {
   "cell_type": "code",
   "execution_count": 76,
   "id": "768c6aa5",
   "metadata": {
    "ExecuteTime": {
     "end_time": "2023-01-31T01:52:53.903410Z",
     "start_time": "2023-01-31T01:52:53.887450Z"
    }
   },
   "outputs": [],
   "source": [
    "cautionzone = pd.read_csv(data_path + \"cautionzone.csv\")"
   ]
  },
  {
   "cell_type": "code",
   "execution_count": 140,
   "id": "8858de6a",
   "metadata": {
    "ExecuteTime": {
     "end_time": "2023-01-31T02:17:10.147661Z",
     "start_time": "2023-01-31T02:17:10.134657Z"
    }
   },
   "outputs": [
    {
     "data": {
      "text/html": [
       "<div>\n",
       "<style scoped>\n",
       "    .dataframe tbody tr th:only-of-type {\n",
       "        vertical-align: middle;\n",
       "    }\n",
       "\n",
       "    .dataframe tbody tr th {\n",
       "        vertical-align: top;\n",
       "    }\n",
       "\n",
       "    .dataframe thead th {\n",
       "        text-align: right;\n",
       "    }\n",
       "</style>\n",
       "<table border=\"1\" class=\"dataframe\">\n",
       "  <thead>\n",
       "    <tr style=\"text-align: right;\">\n",
       "      <th></th>\n",
       "      <th>index</th>\n",
       "      <th>Name</th>\n",
       "      <th>Latitude</th>\n",
       "      <th>Longitude</th>\n",
       "      <th>type</th>\n",
       "    </tr>\n",
       "  </thead>\n",
       "  <tbody>\n",
       "    <tr>\n",
       "      <th>0</th>\n",
       "      <td>0</td>\n",
       "      <td>뱅뱅사거리</td>\n",
       "      <td>37.486653</td>\n",
       "      <td>127.033097</td>\n",
       "      <td>bus</td>\n",
       "    </tr>\n",
       "    <tr>\n",
       "      <th>1</th>\n",
       "      <td>1</td>\n",
       "      <td>래미안아파트.파이낸셜뉴스</td>\n",
       "      <td>37.491087</td>\n",
       "      <td>127.030987</td>\n",
       "      <td>bus</td>\n",
       "    </tr>\n",
       "    <tr>\n",
       "      <th>2</th>\n",
       "      <td>2</td>\n",
       "      <td>신분당선강남역</td>\n",
       "      <td>37.494993</td>\n",
       "      <td>127.029112</td>\n",
       "      <td>bus</td>\n",
       "    </tr>\n",
       "    <tr>\n",
       "      <th>3</th>\n",
       "      <td>3</td>\n",
       "      <td>지하철2호선강남역</td>\n",
       "      <td>37.500785</td>\n",
       "      <td>127.026370</td>\n",
       "      <td>bus</td>\n",
       "    </tr>\n",
       "    <tr>\n",
       "      <th>4</th>\n",
       "      <td>4</td>\n",
       "      <td>논현역</td>\n",
       "      <td>37.506367</td>\n",
       "      <td>127.023728</td>\n",
       "      <td>bus</td>\n",
       "    </tr>\n",
       "  </tbody>\n",
       "</table>\n",
       "</div>"
      ],
      "text/plain": [
       "   index           Name   Latitude   Longitude type\n",
       "0      0          뱅뱅사거리  37.486653  127.033097  bus\n",
       "1      1  래미안아파트.파이낸셜뉴스  37.491087  127.030987  bus\n",
       "2      2        신분당선강남역  37.494993  127.029112  bus\n",
       "3      3      지하철2호선강남역  37.500785  127.026370  bus\n",
       "4      4            논현역  37.506367  127.023728  bus"
      ]
     },
     "execution_count": 140,
     "metadata": {},
     "output_type": "execute_result"
    }
   ],
   "source": [
    "cautionzone.head()"
   ]
  },
  {
   "cell_type": "code",
   "execution_count": 144,
   "id": "bfaf82c3",
   "metadata": {
    "ExecuteTime": {
     "end_time": "2023-01-31T02:26:01.521951Z",
     "start_time": "2023-01-31T02:22:19.837319Z"
    }
   },
   "outputs": [
    {
     "name": "stderr",
     "output_type": "stream",
     "text": [
      "100%|██████████████████████████████████████████████████████████████████████████████| 1585/1585 [03:41<00:00,  7.15it/s]\n"
     ]
    }
   ],
   "source": [
    "for i in tqdm(range(len(cautionzone))):\n",
    "    cautionzone.loc[i, \"dongCode\"] = get_dong(cautionzone.loc[i, \"Latitude\"], cautionzone.loc[i, \"Longitude\"])"
   ]
  },
  {
   "cell_type": "code",
   "execution_count": 145,
   "id": "c4e0ceda",
   "metadata": {
    "ExecuteTime": {
     "end_time": "2023-01-31T02:26:01.746909Z",
     "start_time": "2023-01-31T02:26:01.733861Z"
    }
   },
   "outputs": [
    {
     "data": {
      "text/plain": [
       "array(['118', '101', '108', '105', '107', '110', '115', '104', '106',\n",
       "       '112', '103', '114', '113', '111', 'Invalid Code'], dtype=object)"
      ]
     },
     "execution_count": 145,
     "metadata": {},
     "output_type": "execute_result"
    }
   ],
   "source": [
    "cautionzone[\"dongCode\"].unique()"
   ]
  },
  {
   "cell_type": "code",
   "execution_count": 147,
   "id": "ef7e1d4b",
   "metadata": {
    "ExecuteTime": {
     "end_time": "2023-01-31T02:31:37.686283Z",
     "start_time": "2023-01-31T02:31:37.670326Z"
    }
   },
   "outputs": [],
   "source": [
    "cautionzone.to_csv(data_path + \"cautionzone.csv\", index=False, encoding=\"utf-8\")"
   ]
  },
  {
   "cell_type": "code",
   "execution_count": 143,
   "id": "679514b6",
   "metadata": {
    "ExecuteTime": {
     "end_time": "2023-01-31T02:22:17.209524Z",
     "start_time": "2023-01-31T02:22:17.196586Z"
    }
   },
   "outputs": [],
   "source": [
    "def get_dong(latitude, longitude):\n",
    "    url = \"https://apis.openapi.sk.com/tmap/geo/reversegeocoding?version=1\"\n",
    "\n",
    "    payload = {\n",
    "        \"appKey\": \"l7xx0ffb87c22bdb45ae8facaeeb7958ad36\",\n",
    "        \"lon\": longitude,\n",
    "        \"lat\": latitude,\n",
    "    }\n",
    "\n",
    "    res = requests.get(url, params=payload)\n",
    "\n",
    "    try:\n",
    "        dongCode = json.loads(res.text)[\"addressInfo\"][\"legalDongCode\"][5:8]\n",
    "    except:\n",
    "        return \"ERROR\"\n",
    "\n",
    "    if dongCode in dong[\"dongCode\"].unique():\n",
    "        return dongCode\n",
    "    else:\n",
    "        return \"Invalid Code\""
   ]
  },
  {
   "cell_type": "code",
   "execution_count": 163,
   "id": "ec431ee6",
   "metadata": {
    "ExecuteTime": {
     "end_time": "2023-01-31T02:51:35.449143Z",
     "start_time": "2023-01-31T02:51:35.413244Z"
    }
   },
   "outputs": [],
   "source": [
    "cautionzone = pd.read_csv(data_path+\"cautionzone.csv\").iloc[:, 1:]\n",
    "cautionzone = cautionzone.rename({\"index\":\"id\", \"Name\": \"name\", \"Latitude\": \"latitude\", \"Longitude\": \"longitude\"}, axis=1)\n",
    "cautionzone.to_csv(data_path+\"cautionzone.csv\", index=False)"
   ]
  },
  {
   "cell_type": "code",
   "execution_count": 161,
   "id": "4b9c0848",
   "metadata": {
    "ExecuteTime": {
     "end_time": "2023-01-31T02:51:30.080260Z",
     "start_time": "2023-01-31T02:51:30.064303Z"
    },
    "scrolled": false
   },
   "outputs": [
    {
     "data": {
      "text/html": [
       "<div>\n",
       "<style scoped>\n",
       "    .dataframe tbody tr th:only-of-type {\n",
       "        vertical-align: middle;\n",
       "    }\n",
       "\n",
       "    .dataframe tbody tr th {\n",
       "        vertical-align: top;\n",
       "    }\n",
       "\n",
       "    .dataframe thead th {\n",
       "        text-align: right;\n",
       "    }\n",
       "</style>\n",
       "<table border=\"1\" class=\"dataframe\">\n",
       "  <thead>\n",
       "    <tr style=\"text-align: right;\">\n",
       "      <th></th>\n",
       "      <th>id</th>\n",
       "      <th>name</th>\n",
       "      <th>latitude</th>\n",
       "      <th>longitude</th>\n",
       "      <th>type</th>\n",
       "      <th>dongCode</th>\n",
       "    </tr>\n",
       "  </thead>\n",
       "  <tbody>\n",
       "    <tr>\n",
       "      <th>0</th>\n",
       "      <td>0</td>\n",
       "      <td>뱅뱅사거리</td>\n",
       "      <td>37.486653</td>\n",
       "      <td>127.033097</td>\n",
       "      <td>bus</td>\n",
       "      <td>118</td>\n",
       "    </tr>\n",
       "    <tr>\n",
       "      <th>1</th>\n",
       "      <td>1</td>\n",
       "      <td>래미안아파트.파이낸셜뉴스</td>\n",
       "      <td>37.491087</td>\n",
       "      <td>127.030987</td>\n",
       "      <td>bus</td>\n",
       "      <td>101</td>\n",
       "    </tr>\n",
       "    <tr>\n",
       "      <th>2</th>\n",
       "      <td>2</td>\n",
       "      <td>신분당선강남역</td>\n",
       "      <td>37.494993</td>\n",
       "      <td>127.029112</td>\n",
       "      <td>bus</td>\n",
       "      <td>101</td>\n",
       "    </tr>\n",
       "    <tr>\n",
       "      <th>3</th>\n",
       "      <td>3</td>\n",
       "      <td>지하철2호선강남역</td>\n",
       "      <td>37.500785</td>\n",
       "      <td>127.026370</td>\n",
       "      <td>bus</td>\n",
       "      <td>101</td>\n",
       "    </tr>\n",
       "    <tr>\n",
       "      <th>4</th>\n",
       "      <td>4</td>\n",
       "      <td>논현역</td>\n",
       "      <td>37.506367</td>\n",
       "      <td>127.023728</td>\n",
       "      <td>bus</td>\n",
       "      <td>108</td>\n",
       "    </tr>\n",
       "    <tr>\n",
       "      <th>...</th>\n",
       "      <td>...</td>\n",
       "      <td>...</td>\n",
       "      <td>...</td>\n",
       "      <td>...</td>\n",
       "      <td>...</td>\n",
       "      <td>...</td>\n",
       "    </tr>\n",
       "    <tr>\n",
       "      <th>1580</th>\n",
       "      <td>27</td>\n",
       "      <td>보미나어린이집</td>\n",
       "      <td>37.511241</td>\n",
       "      <td>127.028969</td>\n",
       "      <td>children</td>\n",
       "      <td>108</td>\n",
       "    </tr>\n",
       "    <tr>\n",
       "      <th>1581</th>\n",
       "      <td>28</td>\n",
       "      <td>강남구청어린이집</td>\n",
       "      <td>37.517528</td>\n",
       "      <td>127.047470</td>\n",
       "      <td>children</td>\n",
       "      <td>105</td>\n",
       "    </tr>\n",
       "    <tr>\n",
       "      <th>1582</th>\n",
       "      <td>29</td>\n",
       "      <td>연화어린이집</td>\n",
       "      <td>37.517216</td>\n",
       "      <td>127.037152</td>\n",
       "      <td>children</td>\n",
       "      <td>108</td>\n",
       "    </tr>\n",
       "    <tr>\n",
       "      <th>1583</th>\n",
       "      <td>30</td>\n",
       "      <td>봉은초등학교</td>\n",
       "      <td>37.520135</td>\n",
       "      <td>127.060981</td>\n",
       "      <td>children</td>\n",
       "      <td>105</td>\n",
       "    </tr>\n",
       "    <tr>\n",
       "      <th>1584</th>\n",
       "      <td>31</td>\n",
       "      <td>언북몬테소리어린이집</td>\n",
       "      <td>37.519322</td>\n",
       "      <td>127.046511</td>\n",
       "      <td>children</td>\n",
       "      <td>104</td>\n",
       "    </tr>\n",
       "  </tbody>\n",
       "</table>\n",
       "<p>1585 rows × 6 columns</p>\n",
       "</div>"
      ],
      "text/plain": [
       "      id           name   latitude   longitude      type dongCode\n",
       "0      0          뱅뱅사거리  37.486653  127.033097       bus      118\n",
       "1      1  래미안아파트.파이낸셜뉴스  37.491087  127.030987       bus      101\n",
       "2      2        신분당선강남역  37.494993  127.029112       bus      101\n",
       "3      3      지하철2호선강남역  37.500785  127.026370       bus      101\n",
       "4      4            논현역  37.506367  127.023728       bus      108\n",
       "...   ..            ...        ...         ...       ...      ...\n",
       "1580  27        보미나어린이집  37.511241  127.028969  children      108\n",
       "1581  28       강남구청어린이집  37.517528  127.047470  children      105\n",
       "1582  29         연화어린이집  37.517216  127.037152  children      108\n",
       "1583  30         봉은초등학교  37.520135  127.060981  children      105\n",
       "1584  31     언북몬테소리어린이집  37.519322  127.046511  children      104\n",
       "\n",
       "[1585 rows x 6 columns]"
      ]
     },
     "execution_count": 161,
     "metadata": {},
     "output_type": "execute_result"
    }
   ],
   "source": [
    "cautionzone"
   ]
  },
  {
   "cell_type": "code",
   "execution_count": 164,
   "id": "062936ba",
   "metadata": {
    "ExecuteTime": {
     "end_time": "2023-01-31T02:51:42.214763Z",
     "start_time": "2023-01-31T02:51:42.201787Z"
    }
   },
   "outputs": [],
   "source": [
    "parkingzone = pd.read_csv(data_path+\"parkingzone.csv\").iloc[:, 1:]\n",
    "parkingzone = parkingzone.rename({\"index\":\"id\", \"Name\": \"name\", \"Latitude\": \"latitude\", \"Longitude\": \"longitude\"}, axis=1)\n",
    "parkingzone.to_csv(data_path+\"parkingzone.csv\", index=False)"
   ]
  },
  {
   "cell_type": "code",
   "execution_count": 156,
   "id": "c95397e3",
   "metadata": {
    "ExecuteTime": {
     "end_time": "2023-01-31T02:47:08.800094Z",
     "start_time": "2023-01-31T02:47:08.778671Z"
    },
    "scrolled": true
   },
   "outputs": [
    {
     "data": {
      "text/html": [
       "<div>\n",
       "<style scoped>\n",
       "    .dataframe tbody tr th:only-of-type {\n",
       "        vertical-align: middle;\n",
       "    }\n",
       "\n",
       "    .dataframe tbody tr th {\n",
       "        vertical-align: top;\n",
       "    }\n",
       "\n",
       "    .dataframe thead th {\n",
       "        text-align: right;\n",
       "    }\n",
       "</style>\n",
       "<table border=\"1\" class=\"dataframe\">\n",
       "  <thead>\n",
       "    <tr style=\"text-align: right;\">\n",
       "      <th></th>\n",
       "      <th>id</th>\n",
       "      <th>name</th>\n",
       "      <th>latitude</th>\n",
       "      <th>longitude</th>\n",
       "      <th>type</th>\n",
       "      <th>dongCode</th>\n",
       "    </tr>\n",
       "  </thead>\n",
       "  <tbody>\n",
       "    <tr>\n",
       "      <th>0</th>\n",
       "      <td>0</td>\n",
       "      <td>서울 강남구 청담동 41-2</td>\n",
       "      <td>37.517641</td>\n",
       "      <td>127.041673</td>\n",
       "      <td>kickboard</td>\n",
       "      <td>104</td>\n",
       "    </tr>\n",
       "    <tr>\n",
       "      <th>1</th>\n",
       "      <td>1</td>\n",
       "      <td>서울 강남구 삼성동 145</td>\n",
       "      <td>37.512883</td>\n",
       "      <td>127.053852</td>\n",
       "      <td>kickboard</td>\n",
       "      <td>105</td>\n",
       "    </tr>\n",
       "    <tr>\n",
       "      <th>2</th>\n",
       "      <td>2</td>\n",
       "      <td>서울 강남구 역삼동 717</td>\n",
       "      <td>37.500605</td>\n",
       "      <td>127.038096</td>\n",
       "      <td>kickboard</td>\n",
       "      <td>101</td>\n",
       "    </tr>\n",
       "    <tr>\n",
       "      <th>3</th>\n",
       "      <td>3</td>\n",
       "      <td>서울 강남구 삼성동 52</td>\n",
       "      <td>37.518540</td>\n",
       "      <td>127.050709</td>\n",
       "      <td>kickboard</td>\n",
       "      <td>105</td>\n",
       "    </tr>\n",
       "    <tr>\n",
       "      <th>4</th>\n",
       "      <td>4</td>\n",
       "      <td>서울 강남구 논현동 129-1</td>\n",
       "      <td>37.513568</td>\n",
       "      <td>127.030541</td>\n",
       "      <td>kickboard</td>\n",
       "      <td>108</td>\n",
       "    </tr>\n",
       "    <tr>\n",
       "      <th>5</th>\n",
       "      <td>5</td>\n",
       "      <td>서울 강남구 신사동 501-2</td>\n",
       "      <td>37.516780</td>\n",
       "      <td>127.020108</td>\n",
       "      <td>kickboard</td>\n",
       "      <td>107</td>\n",
       "    </tr>\n",
       "  </tbody>\n",
       "</table>\n",
       "</div>"
      ],
      "text/plain": [
       "   id              name   latitude   longitude       type  dongCode\n",
       "0   0   서울 강남구 청담동 41-2  37.517641  127.041673  kickboard       104\n",
       "1   1    서울 강남구 삼성동 145  37.512883  127.053852  kickboard       105\n",
       "2   2    서울 강남구 역삼동 717  37.500605  127.038096  kickboard       101\n",
       "3   3     서울 강남구 삼성동 52  37.518540  127.050709  kickboard       105\n",
       "4   4  서울 강남구 논현동 129-1  37.513568  127.030541  kickboard       108\n",
       "5   5  서울 강남구 신사동 501-2  37.516780  127.020108  kickboard       107"
      ]
     },
     "execution_count": 156,
     "metadata": {},
     "output_type": "execute_result"
    }
   ],
   "source": [
    "parkingzone"
   ]
  }
 ],
 "metadata": {
  "kernelspec": {
   "display_name": "Python 3 (ipykernel)",
   "language": "python",
   "name": "python3"
  },
  "language_info": {
   "codemirror_mode": {
    "name": "ipython",
    "version": 3
   },
   "file_extension": ".py",
   "mimetype": "text/x-python",
   "name": "python",
   "nbconvert_exporter": "python",
   "pygments_lexer": "ipython3",
   "version": "3.9.15"
  },
  "toc": {
   "base_numbering": 1,
   "nav_menu": {},
   "number_sections": true,
   "sideBar": true,
   "skip_h1_title": false,
   "title_cell": "Table of Contents",
   "title_sidebar": "Contents",
   "toc_cell": false,
   "toc_position": {},
   "toc_section_display": true,
   "toc_window_display": false
  },
  "varInspector": {
   "cols": {
    "lenName": 16,
    "lenType": 16,
    "lenVar": 40
   },
   "kernels_config": {
    "python": {
     "delete_cmd_postfix": "",
     "delete_cmd_prefix": "del ",
     "library": "var_list.py",
     "varRefreshCmd": "print(var_dic_list())"
    },
    "r": {
     "delete_cmd_postfix": ") ",
     "delete_cmd_prefix": "rm(",
     "library": "var_list.r",
     "varRefreshCmd": "cat(var_dic_list()) "
    }
   },
   "types_to_exclude": [
    "module",
    "function",
    "builtin_function_or_method",
    "instance",
    "_Feature"
   ],
   "window_display": false
  }
 },
 "nbformat": 4,
 "nbformat_minor": 5
}
